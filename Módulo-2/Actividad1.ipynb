{
 "cells": [
  {
   "cell_type": "markdown",
   "metadata": {
    "vscode": {
     "languageId": "html"
    }
   },
   "source": [
    "## Actividad 1: Agentes inteligentes\n",
    "### Eliuth Montiel Navarrete"
   ]
  },
  {
   "cell_type": "markdown",
   "metadata": {},
   "source": [
    "<h3>1.- Agente inteligente básico</h3>"
   ]
  },
  {
   "cell_type": "code",
   "execution_count": 35,
   "metadata": {},
   "outputs": [
    {
     "name": "stdout",
     "output_type": "stream",
     "text": [
      "Tengo hambre.\n",
      "El agente está Comiendo.\n",
      "\n",
      "Tengo sueño.\n",
      "El agente está Durmiendo.\n",
      "\n",
      "Estoy bien.\n",
      "El agente está Esperando.\n",
      "\n",
      "Tengo hambre.\n",
      "El agente está Comiendo.\n",
      "\n",
      "Tengo hambre.\n",
      "El agente está Comiendo.\n",
      "\n",
      "Estoy bien.\n",
      "El agente está Esperando.\n",
      "\n",
      "Estoy sucio.\n",
      "El agente está Bañándose.\n",
      "\n",
      "Estoy bien.\n",
      "El agente está Esperando.\n",
      "\n",
      "Estoy bien.\n",
      "El agente está Esperando.\n",
      "\n",
      "Estoy bien.\n",
      "El agente está Esperando.\n",
      "\n"
     ]
    }
   ],
   "source": [
    "#Crear un agente inteligente básico en algún lenguaje de programación (e.g Python)\n",
    "#que realice una tarea sencilla, como elegir una acción basada en su entorno.\n",
    "#Por ejemplo, un agente que elige aleatoriamente entre moverse hacia una dirección u otra en un entorno bidimensional.\n",
    "\n",
    "import random\n",
    "import math\n",
    "\n",
    "# Definimos el agente\n",
    "class AgenteInteligente:\n",
    "    #Constructor del agente.\n",
    "    def __init__(self):\n",
    "        self.accion = 'Esperando'\n",
    "        self.suciedad = 0\n",
    "        self.cansado = 0\n",
    "        self.hambre = 0\n",
    "    #Función para mover el agente.\n",
    "    def Evento(self):\n",
    "        # El agente se mueve aleatoriamente en 4 direcciones\n",
    "        self.suciedad = random.randint(0,100)\n",
    "        self.cansado = random.randint(0,100)\n",
    "        self.hambre = random.randint(0,100)\n",
    "        #Las acciones están ordenadas por prioridad, de menor a mayor,\n",
    "        #si el agente necesita más de una acción hace la de mayor prioridad.\n",
    "        if self.suciedad > 70:\n",
    "            print('Estoy sucio.')\n",
    "            self.accion = 'Bañándose.'\n",
    "        elif self.cansado > 90:\n",
    "            print('Tengo sueño.')\n",
    "            self.accion = 'Durmiendo.'\n",
    "        elif self.hambre > 70:\n",
    "            print('Tengo hambre.')\n",
    "            self.accion = 'Comiendo.'\n",
    "        else:\n",
    "            print('Estoy bien.')\n",
    "            self.accion = 'Esperando.'\n",
    "\n",
    "#Creamos el agente.s\n",
    "agente = AgenteInteligente()\n",
    "\n",
    "# Simulamos los movimientos.\n",
    "for i in range(10):\n",
    "    agente.Evento()\n",
    "    print(f\"El agente está {agente.accion}\\n\")"
   ]
  },
  {
   "cell_type": "markdown",
   "metadata": {},
   "source": [
    "<h3>2.- Agente de recomendación</h3>"
   ]
  },
  {
   "cell_type": "code",
   "execution_count": 28,
   "metadata": {},
   "outputs": [
    {
     "name": "stdout",
     "output_type": "stream",
     "text": [
      "Productos recomendados para el usuario 0: [0 1 2 3]\n",
      "El usuario más parecido a 0 es 1\n",
      "Le recomendaremos al usuario 0 el elemento 0\n",
      "Le recomendaremos al usuario 0 el elemento 2\n",
      "\n",
      "\n",
      "Productos recomendados para el usuario 1: [1 3 0 2]\n",
      "El usuario más parecido a 1 es 3\n",
      "Le recomendaremos al usuario 1 el elemento 2\n",
      "\n",
      "\n",
      "Productos recomendados para el usuario 2: [2 3 0 1]\n",
      "El usuario más parecido a 2 es 3\n",
      "Le recomendaremos al usuario 2 el elemento 2\n",
      "\n",
      "\n",
      "Productos recomendados para el usuario 3: [3 1 2 0]\n",
      "El usuario más parecido a 3 es 1\n",
      "Le recomendaremos al usuario 3 el elemento 0\n",
      "Le recomendaremos al usuario 3 el elemento 2\n",
      "\n",
      "\n"
     ]
    }
   ],
   "source": [
    "#Crear un sistema sencillo que recomiende productos basándose en la similitud\n",
    "#de preferencias de otros usuarios. Usaremos la técnica de filtrado colaborativo basado en usuarios.\n",
    "\n",
    "import numpy\n",
    "from sklearn.metrics.pairwise import cosine_similarity\n",
    "import copy\n",
    "\n",
    "#Matriz de calificaciones (usuarios x productos)\n",
    "#Filas: Usuarios, Columnas: Productos\n",
    "calificaciones = numpy.array([\n",
    "    [5, 4, 0, 1],\n",
    "    [4, 0, 4, 1],\n",
    "    [1, 1, 0, 5],\n",
    "    [0, 0, 5, 4]\n",
    "]) \n",
    "distancias = []\n",
    "\n",
    "#Calcular similitudes entre usuarios\n",
    "similitudes = cosine_similarity(calificaciones)\n",
    "\n",
    "for usuario in range(4):\n",
    "  #Obtenemos los productos recomendados por el usuario.\n",
    "  productos_recomendados = similitudes[usuario].argsort()[::-1]\n",
    "  print(f\"Productos recomendados para el usuario {usuario}: {productos_recomendados}\")\n",
    "  #Comparamos al usuario actual con los demás usuarios.\n",
    "  for usuarioAux in range(4):\n",
    "    productos = cosine_similarity([calificaciones[usuario],calificaciones[usuarioAux]])\n",
    "    distancias.append(productos[0][1])\n",
    "  distanciasAux = copy.deepcopy(distancias)\n",
    "  distanciasAux.sort()\n",
    "  #Elegimos al usuario con la menor distancia.\n",
    "  for i in range(4):\n",
    "    if distancias[i]==distanciasAux[2]:\n",
    "      mejorCoincidencia = i\n",
    "  print(f\"El usuario más parecido a {usuario} es {mejorCoincidencia}\")\n",
    "  distancias.clear()\n",
    "  #Hacemos la recomendación de los elementos mejor evaluados por el usuario con mayor similitud.\n",
    "  mejorCalificado = copy.deepcopy(calificaciones[mejorCoincidencia])\n",
    "  mejorCalificado.sort()\n",
    "  for i in range(4):\n",
    "    if calificaciones[mejorCoincidencia][i] == mejorCalificado[3]:\n",
    "      print(f\"Le recomendaremos al usuario {usuario} el elemento {i}\")\n",
    "  print(\"\\n\")"
   ]
  },
  {
   "cell_type": "markdown",
   "metadata": {},
   "source": [
    "<h3>3.- Agente comparador</h3>"
   ]
  },
  {
   "cell_type": "code",
   "execution_count": 27,
   "metadata": {},
   "outputs": [
    {
     "name": "stdout",
     "output_type": "stream",
     "text": [
      "Producto: Producto A con precio: 248 y características: ['azul', 'madera']\n",
      "Producto: Producto B con precio: 59 y características: ['verde', 'fibra de carbono']\n",
      "Producto: Producto C con precio: 214 y características: ['blanco', 'fibra de carbono']\n",
      "Producto: Producto D con precio: 76 y características: ['blanco', 'metal']\n",
      "Producto: Producto E con precio: 127 y características: ['azul', 'fibra de carbono']\n",
      "\n",
      "Producto recomendado: Producto E con precio: 127 y características: ['azul', 'fibra de carbono']\n"
     ]
    }
   ],
   "source": [
    "#Crear un sistema donde el agente compare los precios de productos de diferentes categorías\n",
    "#y seleccione el más barato, dado un conjunto de productos con características.\n",
    "\n",
    "import random\n",
    "\n",
    "listaMateriales = ['plástico', 'metal', 'madera', 'fibra de carbono']\n",
    "listaColores = ['rojo', 'azul', 'verde', 'blanco']\n",
    "\n",
    "# Productos con precios y características\n",
    "productos = [\n",
    "    {\"nombre\": \"Producto A\", \"precio\": random.randint(50,300), \"caracteristicas\": [listaColores[random.randint(0,3)], listaMateriales[random.randint(0,3)]]},\n",
    "    {\"nombre\": \"Producto B\", \"precio\": random.randint(50,300), \"caracteristicas\": [listaColores[random.randint(0,3)], listaMateriales[random.randint(0,3)]]},\n",
    "    {\"nombre\": \"Producto C\", \"precio\": random.randint(50,300), \"caracteristicas\": [listaColores[random.randint(0,3)], listaMateriales[random.randint(0,3)]]},\n",
    "    {\"nombre\": \"Producto D\", \"precio\": random.randint(50,300), \"caracteristicas\": [listaColores[random.randint(0,3)], listaMateriales[random.randint(0,3)]]},\n",
    "    {\"nombre\": \"Producto E\", \"precio\": random.randint(50,300), \"caracteristicas\": [listaColores[random.randint(0,3)], listaMateriales[random.randint(0,3)]]},\n",
    "]\n",
    "\n",
    "#Agente comparativo\n",
    "def recomendar_producto(productos, caracteristica):\n",
    "    productosAux = []\n",
    "    for producto in productos:\n",
    "        if caracteristica in producto[\"caracteristicas\"]:\n",
    "            productosAux.append(producto)\n",
    "    if len(productosAux) == 0:\n",
    "        print(\"\\nNo se encontraron productos con la característica deseada.\")\n",
    "    else:\n",
    "        productoRecomendado = min(productosAux, key=lambda x: x[\"precio\"])\n",
    "        print(f\"\\nProducto recomendado: {productoRecomendado['nombre']} con precio: {productoRecomendado['precio']} y características: {productoRecomendado['caracteristicas']}\")\n",
    "\n",
    "#Listar productos.\n",
    "for producto in productos:\n",
    "    print(f\"Producto: {producto['nombre']} con precio: {producto['precio']} y características: {producto['caracteristicas']}\")\n",
    "\n",
    "recomendar_producto(productos,'azul')"
   ]
  },
  {
   "cell_type": "markdown",
   "metadata": {},
   "source": [
    "<h3>4.- Agente observador</h3>"
   ]
  },
  {
   "cell_type": "code",
   "execution_count": null,
   "metadata": {},
   "outputs": [
    {
     "name": "stdout",
     "output_type": "stream",
     "text": [
      "Evento 1: Estudiante C ha reprobado un examen.\n",
      "Evento 2: Estudiante A ha programado un agente observador.\n",
      "Evento 3: Estudiante B ha completado una tarea.\n",
      "Evento 4: Estudiante A ha reprobado un examen.\n",
      "Evento 5: Estudiante A ha completado una tarea.\n",
      "Evento 6: Estudiante A ha completado una tarea.\n",
      "Evento 7: Estudiante B ha programado un agente observador.\n",
      "Evento 8: Estudiante B ha completado una tarea.\n",
      "Evento 9: Estudiante A ha completado una tarea.\n",
      "Evento 10: Estudiante C ha completado una tarea.\n",
      "Evento 11: Estudiante B ha elegido un club.\n",
      "Evento 12: Estudiante C ha reprobado un examen.\n",
      "Evento 13: Estudiante C ha aprobado un examen.\n",
      "Evento 14: Estudiante C ha elegido un club.\n",
      "Evento 15: Estudiante A ha aprobado un examen.\n"
     ]
    }
   ],
   "source": [
    "#Crear un agente observador que registre los eventos de cambio de un entorno a lo largo del tiempo\n",
    "#(por ejemplo, observar las acciones de los usuarios en una plataforma).\n",
    "\n",
    "import random\n",
    "\n",
    "class AgenteObservador:\n",
    "    def __init__(self):\n",
    "        self.eventos = []\n",
    "    \n",
    "    def observar(self, estudiante,  evento):\n",
    "        self.eventos.append('Estudiante ' + estudiante + ' ha ' + evento + '.')\n",
    "\n",
    "    def mostrar_eventos(self):\n",
    "        for i, evento in enumerate(self.eventos, 1):\n",
    "            print(f\"Evento {i}: {evento}\")\n",
    "\n",
    "#Creamos una lista de eventos y alumnos para mayor practicidad.\n",
    "listaEventos = ['reprobado un examen','completado una tarea','aprobado un examen','elegido un club','programado un agente observador']\n",
    "listaAlumnos = ['A','B','C']\n",
    "\n",
    "#Crear el agente observador\n",
    "agente = AgenteObservador()\n",
    "\n",
    "#Crear eventos.\n",
    "for i in range(15):\n",
    "    agente.observar(listaAlumnos[random.randint(0,2)],listaEventos[random.randint(0,4)])\n",
    "\n",
    "#Mostrar eventos observados\n",
    "agente.mostrar_eventos()"
   ]
  }
 ],
 "metadata": {
  "kernelspec": {
   "display_name": "AmbienteMódulo2",
   "language": "python",
   "name": "python3"
  },
  "language_info": {
   "codemirror_mode": {
    "name": "ipython",
    "version": 3
   },
   "file_extension": ".py",
   "mimetype": "text/x-python",
   "name": "python",
   "nbconvert_exporter": "python",
   "pygments_lexer": "ipython3",
   "version": "3.13.2"
  }
 },
 "nbformat": 4,
 "nbformat_minor": 2
}
