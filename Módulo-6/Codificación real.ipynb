{
 "cells": [
  {
   "cell_type": "markdown",
   "id": "671e497f",
   "metadata": {},
   "source": [
    "<h3>Ingredientes</h3>"
   ]
  },
  {
   "cell_type": "code",
   "execution_count": 13,
   "id": "5dc116d3",
   "metadata": {},
   "outputs": [],
   "source": [
    "suero = {\n",
    "    'costo':0.10,\n",
    "    'proteinas':80,\n",
    "    'carbohidratos':5,\n",
    "    'grasas':2,\n",
    "    'calorias':350,\n",
    "    'gramos':0,\n",
    "    'min':10,\n",
    "    'max':50\n",
    "}\n",
    "\n",
    "avena = {\n",
    "    'costo':0.02,\n",
    "    'proteinas':15,\n",
    "    'carbohidratos':60,\n",
    "    'grasas':6,\n",
    "    'calorias':370,\n",
    "    'gramos':0,\n",
    "    'min':20,\n",
    "    'max':100\n",
    "}\n",
    "\n",
    "mantequilla = {\n",
    "    'costo':0.15,\n",
    "    'proteinas':25,\n",
    "    'carbohidratos':20,\n",
    "    'grasas':50,\n",
    "    'calorias':600,\n",
    "    'gramos':0,\n",
    "    'min':5,\n",
    "    'max':30\n",
    "}\n",
    "\n",
    "azucar = {\n",
    "    'costo':0.01,\n",
    "    'proteinas':0,\n",
    "    'carbohidratos':100,\n",
    "    'grasas':0,\n",
    "    'calorias':400,\n",
    "    'gramos':0,\n",
    "    'min':0,\n",
    "    'max':20\n",
    "}"
   ]
  },
  {
   "cell_type": "markdown",
   "id": "c9465332",
   "metadata": {},
   "source": [
    "<h3>Quiz 3</h3>"
   ]
  },
  {
   "cell_type": "code",
   "execution_count": null,
   "id": "64017434",
   "metadata": {},
   "outputs": [
    {
     "name": "stdout",
     "output_type": "stream",
     "text": [
      "47.48621373061034\n",
      "C1: [30.46, 70.25999999999999, 18.83, 7.965]\n",
      "C2: [2.960000000000001, 82.14000000000001, 17.53, -6.125]\n",
      "C3: [57.959999999999994, 58.37999999999999, 20.13, 22.055]\n"
     ]
    }
   ],
   "source": [
    "import math\n",
    "\n",
    "#Pregunta 2\n",
    "def funcion(v, vMax, vMin, tao, r, t, tMax, b):\n",
    "    return v + (tao * (vMax - vMin) * (1 - math.pow(r,math.pow(1-(t/tMax),b))))\n",
    "print(funcion(50,100,20,-1,0.6,15,20,2))\n",
    "\n",
    "#Pregunta 3\n",
    "p1 = [16.71, 76.20, 18.18, 0.92]\n",
    "p2 = [44.21, 64.32, 19.48, 15.01]\n",
    "c1 = [0, 0, 0, 0]\n",
    "c2 = [0, 0, 0, 0]\n",
    "c3 = [0, 0, 0, 0]\n",
    "for i in range(len(p1)):\n",
    "    c1[i] = (0.5 * p1[i]) + (0.5 * p2[i])\n",
    "    c2[i] = (1.5 * p1[i]) - (0.5 * p2[i])\n",
    "    c3[i] = (-0.5 * p1[i]) + (1.5 * p2[i])\n",
    "print(f'Pregunta 3: C1: {c1}\\nC2: {c2}\\nC3: {c3}')\n",
    "\n",
    "#Pregunta 4 (opcional)\n",
    "def calcular_aptitud(cromosoma):\n",
    "    proteina_total, carbohidrato_total, grasa_total, calorias_total = calcular_nutricion(cromosoma)\n",
    "\n",
    "    # Penalización\n",
    "    penalizacion_proteinas = max(0, 20 - proteina_total)\n",
    "    penalizacion_carbohidratos = max(0, 30 - carbohidrato_total) if carbohidrato_total < 30 else max(0, carbohidrato_total)\n",
    "    penalizacion_grasas = max(0, 10 - grasa_total)\n",
    "    penalizacion_calorias = max(0, 250 - calorias_total) if calorias_total < 250 else max(0, calorias_total - 350)\n",
    "\n",
    "    penalizacion_total = penalizacion_proteinas + penalizacion_carbohidratos + penalizacion_grasas + penalizacion_calorias\n",
    "    costo_total = np.sum(cromosoma * precios)\n",
    "    #print(costo_total, penalizacion_total)\n",
    "    aptitud = 1/ (costo_total + penalizacion_total)\n",
    "\n",
    "    return aptitud"
   ]
  },
  {
   "cell_type": "markdown",
   "id": "22db48cf",
   "metadata": {},
   "source": []
  }
 ],
 "metadata": {
  "kernelspec": {
   "display_name": "AmbienteMódulo6",
   "language": "python",
   "name": "python3"
  },
  "language_info": {
   "codemirror_mode": {
    "name": "ipython",
    "version": 3
   },
   "file_extension": ".py",
   "mimetype": "text/x-python",
   "name": "python",
   "nbconvert_exporter": "python",
   "pygments_lexer": "ipython3",
   "version": "3.13.2"
  }
 },
 "nbformat": 4,
 "nbformat_minor": 5
}
