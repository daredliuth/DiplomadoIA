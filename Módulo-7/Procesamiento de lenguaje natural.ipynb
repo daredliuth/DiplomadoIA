{
 "cells": [
  {
   "cell_type": "code",
   "execution_count": null,
   "id": "2238a20d",
   "metadata": {},
   "outputs": [],
   "source": [
    "#Bibliotecas\n",
    "import re\n",
    "import nltk\n",
    "import spacy"
   ]
  },
  {
   "cell_type": "code",
   "execution_count": null,
   "id": "3c7f1a4a",
   "metadata": {},
   "outputs": [],
   "source": [
    "nltk.download('wordnet')\n",
    "nltk.download('omw-1.4')\n",
    "nltk.download('stopwords')\n",
    "\n",
    "from nltk.stem import WordNetLemmatizer, PorterStemmer #Para el idioma inglés.\n",
    "from nltk.stem.snowball import SnowballStemmer #Español.\n",
    "\n",
    "from sklearn.feature_extraction.text import CountVectorizer\n",
    "\n",
    "nlp = spacy.load(\"es_core_news_sm\")"
   ]
  },
  {
   "cell_type": "code",
   "execution_count": null,
   "id": "269ca20a",
   "metadata": {},
   "outputs": [],
   "source": [
    "texto = \"Mi correo es contodosmenosconmigo@hotmail.com y mi número de teléfono es 5583940572 nessuno pue sfhduadkah adadasd.\"\n",
    "correos = re.findall(r\"[a-zA-Z0-9_.+-]+@[a-zA-Z0-9-]+\\.[a-zA-Z0-9.]+\",texto) #La r es para raw text.\n",
    "\n",
    "print(\"Correos ecnontrados: \", correos)\n",
    "\n",
    "telefonos = re.findall(r\"\\b\\d{10}\\b\",texto)\n",
    "print(\"Teléfonos encontrados: \", telefonos)"
   ]
  },
  {
   "cell_type": "code",
   "execution_count": null,
   "id": "fe56097f",
   "metadata": {},
   "outputs": [],
   "source": [
    "\"Corriendo, corren, corrido, correr, corrí, corredor\"\n",
    "\n",
    "#Lematización -> Palabra base (que existe en el diccionario).\n",
    "#Radicalización -> Palabra raíz.\n",
    "\n",
    "\"correr, correr, correr, correr, correr, correr\" # -> 1"
   ]
  },
  {
   "cell_type": "code",
   "execution_count": null,
   "id": "0b3c6a16",
   "metadata": {},
   "outputs": [],
   "source": [
    "lemmatizer = WordNetLemmatizer()\n",
    "\n",
    "palabras = [\"running\", \"house\", \"studies\", \"better\"]\n",
    "lemas = [lemmatizer.lemmatize(palabra, pos=\"v\") for palabra in palabras]\n",
    "for palabra, lema in zip(palabras, lemas):\n",
    "    print(f\"{palabra} -> {lema}\")"
   ]
  },
  {
   "cell_type": "code",
   "execution_count": null,
   "id": "9e04f1df",
   "metadata": {},
   "outputs": [],
   "source": [
    "wnl = WordNetLemmatizer()\n",
    "print(wnl.lemmatize('dogs'))"
   ]
  },
  {
   "cell_type": "code",
   "execution_count": null,
   "id": "d32b30f7",
   "metadata": {},
   "outputs": [],
   "source": [
    "palabras = [\"corriendo\", \"corren\", \"corrido\", \"correr\", \"corrí\", \"corredor\"]\n",
    "doc = nlp(\"\".join(palabras))"
   ]
  },
  {
   "cell_type": "code",
   "execution_count": null,
   "id": "94bd45bd",
   "metadata": {},
   "outputs": [],
   "source": [
    "stemmer = SnowballStemmer(\"spanish\")\n",
    "stems = [stemmer.stem(palabra) for palabra in palabras]\n",
    "print(stems)"
   ]
  },
  {
   "cell_type": "code",
   "execution_count": null,
   "id": "0513e0eb",
   "metadata": {},
   "outputs": [],
   "source": [
    "corpus = [\"El perro muerde al hombre\", \"El hombre saca al perro\", \"El perro es amigo del hombre\"]\n",
    "vectorizador = CountVectorizer()\n",
    "x = vectorizador.fit_transform(corpus)\n",
    "print(x.toarray())\n",
    "print(vectorizador.get_feature_names_out())"
   ]
  }
 ],
 "metadata": {
  "kernelspec": {
   "display_name": "AmbienteMódulo7",
   "language": "python",
   "name": "python3"
  },
  "language_info": {
   "codemirror_mode": {
    "name": "ipython",
    "version": 3
   },
   "file_extension": ".py",
   "mimetype": "text/x-python",
   "name": "python",
   "nbconvert_exporter": "python",
   "pygments_lexer": "ipython3",
   "version": "3.13.2"
  }
 },
 "nbformat": 4,
 "nbformat_minor": 5
}
