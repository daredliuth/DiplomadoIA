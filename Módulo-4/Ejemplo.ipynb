{
 "cells": [
  {
   "cell_type": "code",
   "execution_count": null,
   "metadata": {},
   "outputs": [
    {
     "name": "stderr",
     "output_type": "stream",
     "text": [
      "/home/daredliuth/anaconda3/envs/AmbienteMódulo4/lib/python3.13/site-packages/tqdm/auto.py:21: TqdmWarning: IProgress not found. Please update jupyter and ipywidgets. See https://ipywidgets.readthedocs.io/en/stable/user_install.html\n",
      "  from .autonotebook import tqdm as notebook_tqdm\n"
     ]
    }
   ],
   "source": [
    "from pgmpy.models import BayesianNetwork\n",
    "from pgmpy.factors.discrete import TabularCPD\n",
    "from pgmpy.inference import VariableElimination\n",
    "\n",
    "# Definir la estructura de la red bayesiana\n",
    "modelo = BayesianNetwork([('Nublado', 'Lluvia'),\n",
    "                          ('Nublado', 'Aspersor')\n",
    "                          ('Lluvia','Hierba Mojada'),\n",
    "                          ('Aspersor','Hierba Mojada')])\n",
    "\n",
    "# Definir las probabilidades condicionales (cpd)\n",
    "cpd_nublado = TabularCPD(variable='Nublado', variable_card=2, values=[[0.5], [0.5]], state_names={'Nublado': [False, True]})\n",
    "\n",
    "cpd_lluvia = TabularCPD(variable='Lluvia', variable_card=2,\n",
    "                        values=[[0.80, 0.20],\n",
    "                                [0.20, 0.80]], state_names={'lluvia': [False, True]})\n",
    "\n",
    "cpd_alarma = TabularCPD(variable='Alarma', variable_card=2,\n",
    "                        values=[[0.999, 0.71, 0.06, 0.05],\n",
    "                                [0.001, 0.29, 0.94, 0.95]],\n",
    "                        evidence=['Robo', 'Terremoto'],\n",
    "                        evidence_card=[2, 2],\n",
    "                        state_names={\n",
    "                                'Alarma': [False, True],\n",
    "                                'Robo': [False, True],\n",
    "                                'Terremoto': [False, True]\n",
    "                        })\n",
    "\n",
    "cpd_john_llama = TabularCPD(variable='JohnLlama', variable_card=2,\n",
    "                            values=[[0.95, 0.10],\n",
    "                                    [0.05, 0.90]],\n",
    "                            evidence=['Alarma'],\n",
    "                            evidence_card=[2],\n",
    "                            state_names={\n",
    "                                'JohnLlama': [False, True],\n",
    "                                'Alarma': [False, True]\n",
    "                        })\n",
    "\n",
    "cpd_mary_llama = TabularCPD(variable='MaryLlama', variable_card=2,\n",
    "                            values=[[0.95, 0.10],\n",
    "                                    [0.05, 0.90]],\n",
    "                            evidence=['Alarma'],\n",
    "                            evidence_card=[2],\n",
    "                            state_names={\n",
    "                                'MaryLlama': [False, True],\n",
    "                                'Alarma': [False, True]\n",
    "                        })"
   ]
  }
 ],
 "metadata": {
  "kernelspec": {
   "display_name": "AmbienteMódulo4",
   "language": "python",
   "name": "python3"
  },
  "language_info": {
   "codemirror_mode": {
    "name": "ipython",
    "version": 3
   },
   "file_extension": ".py",
   "mimetype": "text/x-python",
   "name": "python",
   "nbconvert_exporter": "python",
   "pygments_lexer": "ipython3",
   "version": "3.13.2"
  }
 },
 "nbformat": 4,
 "nbformat_minor": 2
}
