{
 "cells": [
  {
   "cell_type": "code",
   "execution_count": null,
   "metadata": {},
   "outputs": [],
   "source": [
    "#Actividad 4: Agentes Notificadores\n",
    "#\n",
    "#Objetivo: Crear un agente que notifique eventos basados en condiciones.\n",
    "#\n",
    "#Descripción de la actividad: Simular un sistema de notificación de eventos que avise cuando un valor supera un umbral determinado #(por ejemplo, notificar si la temperatura de una ciudad supera cierto nivel).\n",
    "#\n",
    "#Código de ejemplo:\n",
    "\n",
    "import random\n",
    "import time\n",
    "\n",
    "# Agente notificando eventos\n",
    "def notificador_umbral(temperatura_umbral):\n",
    "    while True:\n",
    "        temperatura = random.randint(0, 40)  # Temperatura aleatoria\n",
    "        print(f\"Temperatura actual: {temperatura}°C\")\n",
    "        if temperatura > temperatura_umbral:\n",
    "            print(f\"¡Alerta! La temperatura ha superado el umbral de {temperatura_umbral}°C\")\n",
    "        time.sleep(2)  # Esperar 2 segundos antes de revisar de nuevo\n",
    "\n",
    "# Ejecutar el notificador con umbral de 30°C\n",
    "notificador_umbral(30)"
   ]
  }
 ],
 "metadata": {
  "kernelspec": {
   "display_name": "Ambiente",
   "language": "python",
   "name": "python3"
  },
  "language_info": {
   "name": "python",
   "version": "3.12.4"
  }
 },
 "nbformat": 4,
 "nbformat_minor": 2
}
