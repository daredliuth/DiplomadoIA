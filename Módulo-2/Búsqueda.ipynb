{
 "cells": [
  {
   "cell_type": "code",
   "execution_count": 1,
   "metadata": {},
   "outputs": [
    {
     "name": "stdout",
     "output_type": "stream",
     "text": [
      "¿Existe camino de A a F?: True\n"
     ]
    }
   ],
   "source": [
    "#Objetivo: Implementar algoritmos básicos de búsqueda (informada y no informada).\n",
    "#\n",
    "#Descripción de la actividad: Crear un algoritmo de búsqueda no informada (búsqueda en amplitud) y otro de búsqueda informada (A*).\n",
    "#\n",
    "#Código de ejemplo (Búsqueda en amplitud):\n",
    "\n",
    "from collections import deque\n",
    "\n",
    "def busqueda_amplitud(grafo, inicio, objetivo):\n",
    "    visitados = set()\n",
    "    cola = deque([inicio])\n",
    "    \n",
    "    while cola:\n",
    "        nodo = cola.popleft()\n",
    "        if nodo == objetivo:\n",
    "            return True\n",
    "        if nodo not in visitados:\n",
    "            visitados.add(nodo)\n",
    "            cola.extend(grafo[nodo])\n",
    "    return False\n",
    "\n",
    "# Grafo de ejemplo (representación de un laberinto)\n",
    "grafo = {\n",
    "    'A': ['B', 'C'],\n",
    "    'B': ['A', 'D', 'E'],\n",
    "    'C': ['A', 'F'],\n",
    "    'D': ['B'],\n",
    "    'E': ['B', 'F'],\n",
    "    'F': ['C', 'E']\n",
    "}\n",
    "\n",
    "# Buscar si existe un camino de A a F\n",
    "existe_camino = busqueda_amplitud(grafo, 'A', 'F')\n",
    "print(f\"¿Existe camino de A a F?: {existe_camino}\")"
   ]
  }
 ],
 "metadata": {
  "kernelspec": {
   "display_name": "Ambiente",
   "language": "python",
   "name": "python3"
  },
  "language_info": {
   "codemirror_mode": {
    "name": "ipython",
    "version": 3
   },
   "file_extension": ".py",
   "mimetype": "text/x-python",
   "name": "python",
   "nbconvert_exporter": "python",
   "pygments_lexer": "ipython3",
   "version": "3.12.4"
  }
 },
 "nbformat": 4,
 "nbformat_minor": 2
}
