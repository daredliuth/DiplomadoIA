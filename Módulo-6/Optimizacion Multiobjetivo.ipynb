{
 "cells": [
  {
   "cell_type": "markdown",
   "id": "b5bfef01",
   "metadata": {},
   "source": [
    "<h3>Ejercicio</h3>"
   ]
  },
  {
   "cell_type": "code",
   "execution_count": null,
   "id": "a7d7f1cf",
   "metadata": {},
   "outputs": [],
   "source": []
  }
 ],
 "metadata": {
  "kernelspec": {
   "display_name": "AmbienteMódulo6",
   "language": "python",
   "name": "python3"
  },
  "language_info": {
   "name": "python",
   "version": "3.13.2"
  }
 },
 "nbformat": 4,
 "nbformat_minor": 5
}
