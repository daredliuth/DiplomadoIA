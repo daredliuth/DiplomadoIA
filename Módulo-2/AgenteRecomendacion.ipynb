{
 "cells": [
  {
   "cell_type": "code",
   "execution_count": 1,
   "metadata": {},
   "outputs": [
    {
     "ename": "ModuleNotFoundError",
     "evalue": "No module named 'sklearn'",
     "output_type": "error",
     "traceback": [
      "\u001b[0;31m---------------------------------------------------------------------------\u001b[0m",
      "\u001b[0;31mModuleNotFoundError\u001b[0m                       Traceback (most recent call last)",
      "Cell \u001b[0;32mIn[1], line 12\u001b[0m\n\u001b[1;32m      1\u001b[0m \u001b[38;5;66;03m#Actividad 2: Agentes de Recomendación\u001b[39;00m\n\u001b[1;32m      2\u001b[0m \u001b[38;5;66;03m#\u001b[39;00m\n\u001b[1;32m      3\u001b[0m \u001b[38;5;66;03m#Objetivo: Implementar un sistema básico de recomendación utilizando el \u001b[39;00m\n\u001b[0;32m   (...)\u001b[0m\n\u001b[1;32m      9\u001b[0m \u001b[38;5;66;03m#\u001b[39;00m\n\u001b[1;32m     10\u001b[0m \u001b[38;5;66;03m#Código de ejemplo:\u001b[39;00m\n\u001b[1;32m     11\u001b[0m \u001b[38;5;28;01mimport\u001b[39;00m\u001b[38;5;250m \u001b[39m\u001b[38;5;21;01mnumpy\u001b[39;00m\u001b[38;5;250m \u001b[39m\u001b[38;5;28;01mas\u001b[39;00m\u001b[38;5;250m \u001b[39m\u001b[38;5;21;01mnp\u001b[39;00m\n\u001b[0;32m---> 12\u001b[0m \u001b[38;5;28;01mfrom\u001b[39;00m\u001b[38;5;250m \u001b[39m\u001b[38;5;21;01msklearn\u001b[39;00m\u001b[38;5;21;01m.\u001b[39;00m\u001b[38;5;21;01mmetrics\u001b[39;00m\u001b[38;5;21;01m.\u001b[39;00m\u001b[38;5;21;01mpairwise\u001b[39;00m\u001b[38;5;250m \u001b[39m\u001b[38;5;28;01mimport\u001b[39;00m cosine_similarity\n\u001b[1;32m     13\u001b[0m \u001b[38;5;28;01mimport\u001b[39;00m\u001b[38;5;250m \u001b[39m\u001b[38;5;21;01mcopy\u001b[39;00m\n\u001b[1;32m     15\u001b[0m \u001b[38;5;66;03m# Matriz de calificaciones (usuarios x productos)\u001b[39;00m\n\u001b[1;32m     16\u001b[0m \u001b[38;5;66;03m# Filas: Usuarios, Columnas: Productos\u001b[39;00m\n",
      "\u001b[0;31mModuleNotFoundError\u001b[0m: No module named 'sklearn'"
     ]
    }
   ],
   "source": [
    "#Actividad 2: Agentes de Recomendación\n",
    "#\n",
    "#Objetivo: Implementar un sistema básico de recomendación utilizando el \n",
    "#algoritmo de filtrado colaborativo.\n",
    "#\n",
    "#Descripción de la actividad: Crear un sistema sencillo que recomiende \n",
    "#productos basándose en la similitud de preferencias de otros #usuarios. \n",
    "#Usaremos la técnica de filtrado colaborativo basado en usuarios.\n",
    "#\n",
    "#Código de ejemplo:\n",
    "import numpy as np\n",
    "from sklearn.metrics.pairwise import cosine_similarity\n",
    "import copy\n",
    "\n",
    "# Matriz de calificaciones (usuarios x productos)\n",
    "# Filas: Usuarios, Columnas: Productos\n",
    "calificaciones = np.array([\n",
    "    [5, 4, 0, 1],\n",
    "    [4, 0, 4, 1],\n",
    "    [1, 1, 0, 5],\n",
    "    [0, 0, 5, 4]\n",
    "]) \n",
    "distancias = []\n",
    "# Calcular similitudes entre usuarios\n",
    "similitudes = cosine_similarity(calificaciones)\n",
    "#print(f\"Similitudes: {similitudes}\")\n",
    "\n",
    "# Recomendar productos (más recomendados para el usuario 0)\n",
    "usuario = 0\n",
    "for usuario in range(4):\n",
    "  productos_recomendados = similitudes[usuario].argsort()[::-1]\n",
    "  print(f\"Productos recomendados para el usuario {usuario}: {productos_recomendados}\")\n",
    "  for usuarioAux in range(4):\n",
    "    productos = cosine_similarity([calificaciones[usuario],calificaciones[usuarioAux]])\n",
    "    #print(f\"Usuario {usuario} comparado con el usuario {usuarioAux}: \\n{productos}\")\n",
    "    distancias.append(productos[0][1])\n",
    "  #print(f\"Las distancias para el usuario {usuario} son: {distancias}\")\n",
    "  distanciasAux = copy.deepcopy(distancias)\n",
    "  distanciasAux.sort()\n",
    "  #print(f\"DistanciasAux: {distanciasAux}\")\n",
    "  for i in range(4):\n",
    "    if distancias[i]==distanciasAux[2]:\n",
    "      mejorCoincidencia = i\n",
    "  print(f\"El usuario más parecido a {usuario} es {mejorCoincidencia}\")\n",
    "  distancias.clear()\n",
    "\n",
    "  mejorCalificado = copy.deepcopy(calificaciones[mejorCoincidencia])\n",
    "  mejorCalificado.sort()\n",
    "  for i in range(4):\n",
    "    if calificaciones[mejorCoincidencia][i] == mejorCalificado[3]:\n",
    "      print(f\"Le recomendaremos al usuario {usuario} el elemento {i}\")"
   ]
  }
 ],
 "metadata": {
  "kernelspec": {
   "display_name": "Ambiente",
   "language": "python",
   "name": "python3"
  },
  "language_info": {
   "codemirror_mode": {
    "name": "ipython",
    "version": 3
   },
   "file_extension": ".py",
   "mimetype": "text/x-python",
   "name": "python",
   "nbconvert_exporter": "python",
   "pygments_lexer": "ipython3",
   "version": "3.12.4"
  }
 },
 "nbformat": 4,
 "nbformat_minor": 2
}
