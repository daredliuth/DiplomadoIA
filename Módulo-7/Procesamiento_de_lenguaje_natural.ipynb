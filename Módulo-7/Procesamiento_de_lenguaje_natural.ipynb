{
  "cells": [
    {
      "cell_type": "code",
      "execution_count": 13,
      "id": "2238a20d",
      "metadata": {
        "id": "2238a20d"
      },
      "outputs": [],
      "source": [
        "#Bibliotecas\n",
        "import re\n",
        "import nltk\n",
        "import spacy"
      ]
    },
    {
      "cell_type": "code",
      "execution_count": 14,
      "id": "3c7f1a4a",
      "metadata": {
        "colab": {
          "base_uri": "https://localhost:8080/"
        },
        "id": "3c7f1a4a",
        "outputId": "de556cf2-1610-4f6a-da02-b8c61506b8c6"
      },
      "outputs": [
        {
          "name": "stderr",
          "output_type": "stream",
          "text": [
            "[nltk_data] Downloading package wordnet to /root/nltk_data...\n",
            "[nltk_data]   Package wordnet is already up-to-date!\n",
            "[nltk_data] Downloading package omw-1.4 to /root/nltk_data...\n",
            "[nltk_data]   Package omw-1.4 is already up-to-date!\n",
            "[nltk_data] Downloading package stopwords to /root/nltk_data...\n",
            "[nltk_data]   Package stopwords is already up-to-date!\n"
          ]
        }
      ],
      "source": [
        "nltk.download('wordnet')\n",
        "nltk.download('omw-1.4')\n",
        "nltk.download('stopwords')\n",
        "\n",
        "from nltk.stem import WordNetLemmatizer, PorterStemmer #Para el idioma inglés.\n",
        "from nltk.stem.snowball import SnowballStemmer #Español.\n",
        "\n",
        "from sklearn.feature_extraction.text import CountVectorizer\n",
        "\n",
        "nlp = spacy.load(\"es_core_news_sm\")"
      ]
    },
    {
      "cell_type": "code",
      "execution_count": 15,
      "id": "269ca20a",
      "metadata": {
        "colab": {
          "base_uri": "https://localhost:8080/"
        },
        "id": "269ca20a",
        "outputId": "b7c25d6d-e7bd-428d-ed19-44d57d3f0453"
      },
      "outputs": [
        {
          "name": "stdout",
          "output_type": "stream",
          "text": [
            "Correos ecnontrados:  ['contodosmenosconmigo@hotmail.com']\n",
            "Teléfonos encontrados:  ['5583940572']\n"
          ]
        }
      ],
      "source": [
        "texto = \"Mi correo es contodosmenosconmigo@hotmail.com y mi número de teléfono es 5583940572 nessuno pue sfhduadkah adadasd.\"\n",
        "correos = re.findall(r\"[a-zA-Z0-9_.+-]+@[a-zA-Z0-9-]+\\.[a-zA-Z0-9.]+\",texto) #La r es para raw text.\n",
        "\n",
        "print(\"Correos ecnontrados: \", correos)\n",
        "\n",
        "telefonos = re.findall(r\"\\b\\d{10}\\b\",texto)\n",
        "print(\"Teléfonos encontrados: \", telefonos)"
      ]
    },
    {
      "cell_type": "code",
      "execution_count": 16,
      "id": "fe56097f",
      "metadata": {
        "colab": {
          "base_uri": "https://localhost:8080/",
          "height": 35
        },
        "id": "fe56097f",
        "outputId": "8567516c-9fc7-4788-bc98-af3799ef4ca1"
      },
      "outputs": [
        {
          "data": {
            "application/vnd.google.colaboratory.intrinsic+json": {
              "type": "string"
            },
            "text/plain": [
              "'correr, correr, correr, correr, correr, correr'"
            ]
          },
          "execution_count": 16,
          "metadata": {},
          "output_type": "execute_result"
        }
      ],
      "source": [
        "\"Corriendo, corren, corrido, correr, corrí, corredor\"\n",
        "\n",
        "#Lematización -> Palabra base (que existe en el diccionario).\n",
        "#Radicalización -> Palabra raíz.\n",
        "\n",
        "\"correr, correr, correr, correr, correr, correr\" # -> 1"
      ]
    },
    {
      "cell_type": "code",
      "execution_count": 17,
      "id": "0b3c6a16",
      "metadata": {
        "colab": {
          "base_uri": "https://localhost:8080/"
        },
        "id": "0b3c6a16",
        "outputId": "56a11089-e587-44c3-bb05-c19d75141343"
      },
      "outputs": [
        {
          "name": "stdout",
          "output_type": "stream",
          "text": [
            "running -> run\n",
            "house -> house\n",
            "studies -> study\n",
            "better -> better\n"
          ]
        }
      ],
      "source": [
        "lemmatizer = WordNetLemmatizer()\n",
        "\n",
        "palabras = [\"running\", \"house\", \"studies\", \"better\"]\n",
        "lemas = [lemmatizer.lemmatize(palabra, pos=\"v\") for palabra in palabras]\n",
        "for palabra, lema in zip(palabras, lemas):\n",
        "    print(f\"{palabra} -> {lema}\")"
      ]
    },
    {
      "cell_type": "code",
      "execution_count": 18,
      "id": "9e04f1df",
      "metadata": {
        "colab": {
          "base_uri": "https://localhost:8080/"
        },
        "id": "9e04f1df",
        "outputId": "28fe3309-abb6-433e-aced-d9f1c7b055b5"
      },
      "outputs": [
        {
          "name": "stdout",
          "output_type": "stream",
          "text": [
            "dog\n"
          ]
        }
      ],
      "source": [
        "wnl = WordNetLemmatizer()\n",
        "print(wnl.lemmatize('dogs'))"
      ]
    },
    {
      "cell_type": "code",
      "execution_count": 22,
      "id": "d32b30f7",
      "metadata": {
        "colab": {
          "base_uri": "https://localhost:8080/"
        },
        "id": "d32b30f7",
        "outputId": "cb85346b-80c6-4bf5-8954-af1d1cb79a0e"
      },
      "outputs": [
        {
          "name": "stdout",
          "output_type": "stream",
          "text": [
            "corriendocorrencorridocorrercorrícorredor\n"
          ]
        }
      ],
      "source": [
        "palabras = [\"corriendo\", \"corren\", \"corrido\", \"correr\", \"corrí\", \"corredor\"]\n",
        "doc = nlp(\"\".join(palabras))\n",
        "print(doc)"
      ]
    },
    {
      "cell_type": "code",
      "execution_count": 20,
      "id": "94bd45bd",
      "metadata": {
        "colab": {
          "base_uri": "https://localhost:8080/"
        },
        "id": "94bd45bd",
        "outputId": "b3abf3e0-49b2-4f44-9db1-ca583458d5b8"
      },
      "outputs": [
        {
          "name": "stdout",
          "output_type": "stream",
          "text": [
            "['corr', 'corr', 'corr', 'corr', 'corr', 'corredor']\n"
          ]
        }
      ],
      "source": [
        "stemmer = SnowballStemmer(\"spanish\")\n",
        "stems = [stemmer.stem(palabra) for palabra in palabras]\n",
        "print(stems)"
      ]
    },
    {
      "cell_type": "code",
      "execution_count": 21,
      "id": "0513e0eb",
      "metadata": {
        "colab": {
          "base_uri": "https://localhost:8080/"
        },
        "id": "0513e0eb",
        "outputId": "c1f7544f-f9fd-4e26-cbe5-2d7e12047a1a"
      },
      "outputs": [
        {
          "name": "stdout",
          "output_type": "stream",
          "text": [
            "[[1 0 0 1 0 1 1 1 0]\n",
            " [1 0 0 1 0 1 0 1 1]\n",
            " [0 1 1 1 1 1 0 1 0]]\n",
            "['al' 'amigo' 'del' 'el' 'es' 'hombre' 'muerde' 'perro' 'saca']\n"
          ]
        }
      ],
      "source": [
        "corpus = [\"El perro muerde al hombre\", \"El hombre saca al perro\", \"El perro es amigo del hombre\"]\n",
        "vectorizador = CountVectorizer()\n",
        "x = vectorizador.fit_transform(corpus)\n",
        "print(x.toarray())\n",
        "print(vectorizador.get_feature_names_out())"
      ]
    }
  ],
  "metadata": {
    "colab": {
      "provenance": []
    },
    "kernelspec": {
      "display_name": "AmbienteMódulo7",
      "language": "python",
      "name": "python3"
    },
    "language_info": {
      "codemirror_mode": {
        "name": "ipython",
        "version": 3
      },
      "file_extension": ".py",
      "mimetype": "text/x-python",
      "name": "python",
      "nbconvert_exporter": "python",
      "pygments_lexer": "ipython3",
      "version": "3.13.2"
    }
  },
  "nbformat": 4,
  "nbformat_minor": 5
}
