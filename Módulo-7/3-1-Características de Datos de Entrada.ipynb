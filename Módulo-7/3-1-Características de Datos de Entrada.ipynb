{
  "cells": [
    {
      "cell_type": "markdown",
      "metadata": {},
      "source": [
        "## Actividad de clase 2: Características de Datos de entrada\n",
        "### Eliuth Montiel Navarrete"
      ]
    },
    {
      "cell_type": "markdown",
      "metadata": {
        "id": "BKpsSlhdWeSQ"
      },
      "source": [
        "# CODIFICACIÓN"
      ]
    },
    {
      "cell_type": "code",
      "execution_count": 1,
      "metadata": {
        "id": "lrjF9qHXW2H-"
      },
      "outputs": [],
      "source": [
        "import pandas as pd\n",
        "import numpy as np\n",
        "from sklearn.preprocessing import OrdinalEncoder, LabelBinarizer, OneHotEncoder, MinMaxScaler\n",
        "from sklearn.impute import SimpleImputer, KNNImputer\n",
        "from sklearn.ensemble import IsolationForest\n",
        "import matplotlib.pyplot as plt\n",
        "import seaborn as sns"
      ]
    },
    {
      "cell_type": "code",
      "execution_count": 2,
      "metadata": {
        "colab": {
          "base_uri": "https://localhost:8080/",
          "height": 206
        },
        "id": "e5xZ8Ivnq17C",
        "outputId": "4a8db326-fc4c-4883-8d19-09b0e60667e7"
      },
      "outputs": [
        {
          "data": {
            "text/html": [
              "<div>\n",
              "<style scoped>\n",
              "    .dataframe tbody tr th:only-of-type {\n",
              "        vertical-align: middle;\n",
              "    }\n",
              "\n",
              "    .dataframe tbody tr th {\n",
              "        vertical-align: top;\n",
              "    }\n",
              "\n",
              "    .dataframe thead th {\n",
              "        text-align: right;\n",
              "    }\n",
              "</style>\n",
              "<table border=\"1\" class=\"dataframe\">\n",
              "  <thead>\n",
              "    <tr style=\"text-align: right;\">\n",
              "      <th></th>\n",
              "      <th>Nivel_educativo</th>\n",
              "      <th>Ciudad</th>\n",
              "      <th>Tiene_coche</th>\n",
              "      <th>Edad</th>\n",
              "    </tr>\n",
              "  </thead>\n",
              "  <tbody>\n",
              "    <tr>\n",
              "      <th>0</th>\n",
              "      <td>Primaria</td>\n",
              "      <td>CDMX</td>\n",
              "      <td>Sí</td>\n",
              "      <td>25</td>\n",
              "    </tr>\n",
              "    <tr>\n",
              "      <th>1</th>\n",
              "      <td>Secundaria</td>\n",
              "      <td>Guadalajara</td>\n",
              "      <td>No</td>\n",
              "      <td>30</td>\n",
              "    </tr>\n",
              "    <tr>\n",
              "      <th>2</th>\n",
              "      <td>Preparatoria</td>\n",
              "      <td>Monterrey</td>\n",
              "      <td>Sí</td>\n",
              "      <td>22</td>\n",
              "    </tr>\n",
              "    <tr>\n",
              "      <th>3</th>\n",
              "      <td>Universidad</td>\n",
              "      <td>CDMX</td>\n",
              "      <td>Sí</td>\n",
              "      <td>35</td>\n",
              "    </tr>\n",
              "    <tr>\n",
              "      <th>4</th>\n",
              "      <td>Preparatoria</td>\n",
              "      <td>Guadalajara</td>\n",
              "      <td>No</td>\n",
              "      <td>28</td>\n",
              "    </tr>\n",
              "  </tbody>\n",
              "</table>\n",
              "</div>"
            ],
            "text/plain": [
              "  Nivel_educativo       Ciudad Tiene_coche  Edad\n",
              "0        Primaria         CDMX          Sí    25\n",
              "1      Secundaria  Guadalajara          No    30\n",
              "2    Preparatoria    Monterrey          Sí    22\n",
              "3     Universidad         CDMX          Sí    35\n",
              "4    Preparatoria  Guadalajara          No    28"
            ]
          },
          "execution_count": 2,
          "metadata": {},
          "output_type": "execute_result"
        }
      ],
      "source": [
        "data = {\n",
        "    \"Nivel_educativo\": [\n",
        "        \"Primaria\", \"Secundaria\", \"Preparatoria\", \"Universidad\", \"Preparatoria\",\n",
        "        \"Secundaria\", \"Primaria\", \"Universidad\", \"Preparatoria\", \"Secundaria\"\n",
        "    ],\n",
        "    \"Ciudad\": [\n",
        "        \"CDMX\", \"Guadalajara\", \"Monterrey\", \"CDMX\", \"Guadalajara\",\n",
        "        \"Monterrey\", \"CDMX\", \"Guadalajara\", \"Monterrey\", \"CDMX\"\n",
        "    ],\n",
        "    \"Tiene_coche\": [\n",
        "        \"Sí\", \"No\", \"Sí\", \"Sí\", \"No\",\n",
        "        \"Sí\", \"No\", \"Sí\", \"No\", \"Sí\"\n",
        "    ],\n",
        "    \"Edad\": [25, 30, 22, 35, 28, 40, 23, 32, 27, 29]\n",
        "}\n",
        "\n",
        "df = pd.DataFrame(data)\n",
        "df.head()"
      ]
    },
    {
      "cell_type": "code",
      "execution_count": 3,
      "metadata": {},
      "outputs": [
        {
          "data": {
            "text/html": [
              "<div>\n",
              "<style scoped>\n",
              "    .dataframe tbody tr th:only-of-type {\n",
              "        vertical-align: middle;\n",
              "    }\n",
              "\n",
              "    .dataframe tbody tr th {\n",
              "        vertical-align: top;\n",
              "    }\n",
              "\n",
              "    .dataframe thead th {\n",
              "        text-align: right;\n",
              "    }\n",
              "</style>\n",
              "<table border=\"1\" class=\"dataframe\">\n",
              "  <thead>\n",
              "    <tr style=\"text-align: right;\">\n",
              "      <th></th>\n",
              "      <th>Nivel_educativo</th>\n",
              "      <th>Tiene_coche</th>\n",
              "      <th>Edad</th>\n",
              "      <th>Ciudad_Guadalajara</th>\n",
              "      <th>Ciudad_Monterrey</th>\n",
              "    </tr>\n",
              "  </thead>\n",
              "  <tbody>\n",
              "    <tr>\n",
              "      <th>0</th>\n",
              "      <td>0.0</td>\n",
              "      <td>1</td>\n",
              "      <td>25</td>\n",
              "      <td>0.0</td>\n",
              "      <td>0.0</td>\n",
              "    </tr>\n",
              "    <tr>\n",
              "      <th>1</th>\n",
              "      <td>1.0</td>\n",
              "      <td>0</td>\n",
              "      <td>30</td>\n",
              "      <td>1.0</td>\n",
              "      <td>0.0</td>\n",
              "    </tr>\n",
              "    <tr>\n",
              "      <th>2</th>\n",
              "      <td>2.0</td>\n",
              "      <td>1</td>\n",
              "      <td>22</td>\n",
              "      <td>0.0</td>\n",
              "      <td>1.0</td>\n",
              "    </tr>\n",
              "    <tr>\n",
              "      <th>3</th>\n",
              "      <td>3.0</td>\n",
              "      <td>1</td>\n",
              "      <td>35</td>\n",
              "      <td>0.0</td>\n",
              "      <td>0.0</td>\n",
              "    </tr>\n",
              "    <tr>\n",
              "      <th>4</th>\n",
              "      <td>2.0</td>\n",
              "      <td>0</td>\n",
              "      <td>28</td>\n",
              "      <td>1.0</td>\n",
              "      <td>0.0</td>\n",
              "    </tr>\n",
              "  </tbody>\n",
              "</table>\n",
              "</div>"
            ],
            "text/plain": [
              "   Nivel_educativo  Tiene_coche  Edad  Ciudad_Guadalajara  Ciudad_Monterrey\n",
              "0              0.0            1    25                 0.0               0.0\n",
              "1              1.0            0    30                 1.0               0.0\n",
              "2              2.0            1    22                 0.0               1.0\n",
              "3              3.0            1    35                 0.0               0.0\n",
              "4              2.0            0    28                 1.0               0.0"
            ]
          },
          "execution_count": 3,
          "metadata": {},
          "output_type": "execute_result"
        }
      ],
      "source": [
        "#@daredliuth\n",
        "# Codificación jerárquica para la variable \"Nivel_educativo\".\n",
        "ord_cat = [\"Primaria\",\"Secundaria\",\"Preparatoria\",\"Universidad\"]\n",
        "orden_nivel = OrdinalEncoder(categories=[ord_cat])\n",
        "df[\"Nivel_educativo\"] = orden_nivel.fit_transform(df[[\"Nivel_educativo\"]])\n",
        "\n",
        "#@daredliuth\n",
        "#Codificación binaria para \"Tiene_coche\"\n",
        "lb = LabelBinarizer()\n",
        "df[\"Tiene_coche\"] = lb.fit_transform(df[\"Tiene_coche\"])\n",
        "\n",
        "#@daredliuth\n",
        "#Codificación One-Hot para \"Ciudad\"\n",
        "oneHot = OneHotEncoder(drop = \"first\", sparse_output = False)\n",
        "ciudad_codificada = oneHot.fit_transform(df[[\"Ciudad\"]])\n",
        "df = df.drop(columns=[\"Ciudad\"])\n",
        "#Nombres de las columnas codificadas.\n",
        "ciudad_columnas = oneHot.get_feature_names_out([\"Ciudad\"])\n",
        "#Agregar las columnas modificadas.\n",
        "df[ciudad_columnas] = ciudad_codificada\n",
        "\n",
        "df.head()"
      ]
    },
    {
      "cell_type": "markdown",
      "metadata": {
        "id": "F_-VpxXhWnIt"
      },
      "source": [
        "Variables de tiempo"
      ]
    },
    {
      "cell_type": "code",
      "execution_count": 4,
      "metadata": {
        "colab": {
          "base_uri": "https://localhost:8080/",
          "height": 206
        },
        "id": "ZKUChGyO2trg",
        "outputId": "5896c0ff-ef10-496d-8f82-fd6219549ae1"
      },
      "outputs": [
        {
          "data": {
            "text/html": [
              "<div>\n",
              "<style scoped>\n",
              "    .dataframe tbody tr th:only-of-type {\n",
              "        vertical-align: middle;\n",
              "    }\n",
              "\n",
              "    .dataframe tbody tr th {\n",
              "        vertical-align: top;\n",
              "    }\n",
              "\n",
              "    .dataframe thead th {\n",
              "        text-align: right;\n",
              "    }\n",
              "</style>\n",
              "<table border=\"1\" class=\"dataframe\">\n",
              "  <thead>\n",
              "    <tr style=\"text-align: right;\">\n",
              "      <th></th>\n",
              "      <th>Fecha</th>\n",
              "      <th>Ventas</th>\n",
              "    </tr>\n",
              "  </thead>\n",
              "  <tbody>\n",
              "    <tr>\n",
              "      <th>0</th>\n",
              "      <td>2025-01-15</td>\n",
              "      <td>100</td>\n",
              "    </tr>\n",
              "    <tr>\n",
              "      <th>1</th>\n",
              "      <td>2025-02-20</td>\n",
              "      <td>150</td>\n",
              "    </tr>\n",
              "    <tr>\n",
              "      <th>2</th>\n",
              "      <td>2025-03-10</td>\n",
              "      <td>200</td>\n",
              "    </tr>\n",
              "    <tr>\n",
              "      <th>3</th>\n",
              "      <td>2025-04-05</td>\n",
              "      <td>180</td>\n",
              "    </tr>\n",
              "    <tr>\n",
              "      <th>4</th>\n",
              "      <td>2025-05-25</td>\n",
              "      <td>220</td>\n",
              "    </tr>\n",
              "  </tbody>\n",
              "</table>\n",
              "</div>"
            ],
            "text/plain": [
              "       Fecha  Ventas\n",
              "0 2025-01-15     100\n",
              "1 2025-02-20     150\n",
              "2 2025-03-10     200\n",
              "3 2025-04-05     180\n",
              "4 2025-05-25     220"
            ]
          },
          "execution_count": 4,
          "metadata": {},
          "output_type": "execute_result"
        }
      ],
      "source": [
        "data = {\n",
        "    \"Fecha\": [\n",
        "        \"2025-01-15\", \"2025-02-20\", \"2025-03-10\", \"2025-04-05\", \"2025-05-25\",\n",
        "        \"2025-06-30\", \"2025-07-15\", \"2025-08-20\", \"2025-09-10\", \"2025-10-31\"\n",
        "    ],\n",
        "    \"Ventas\": [100, 150, 200, 180, 220, 250, 270, 300, 230, 190]\n",
        "}\n",
        "\n",
        "df = pd.DataFrame(data)\n",
        "#@daredliuth\n",
        "df[\"Fecha\"] = pd.to_datetime(df[\"Fecha\"])\n",
        "df.head()"
      ]
    },
    {
      "cell_type": "code",
      "execution_count": 5,
      "metadata": {},
      "outputs": [
        {
          "data": {
            "text/html": [
              "<div>\n",
              "<style scoped>\n",
              "    .dataframe tbody tr th:only-of-type {\n",
              "        vertical-align: middle;\n",
              "    }\n",
              "\n",
              "    .dataframe tbody tr th {\n",
              "        vertical-align: top;\n",
              "    }\n",
              "\n",
              "    .dataframe thead th {\n",
              "        text-align: right;\n",
              "    }\n",
              "</style>\n",
              "<table border=\"1\" class=\"dataframe\">\n",
              "  <thead>\n",
              "    <tr style=\"text-align: right;\">\n",
              "      <th></th>\n",
              "      <th>Fecha</th>\n",
              "      <th>Ventas</th>\n",
              "      <th>Mes</th>\n",
              "      <th>Año</th>\n",
              "      <th>Día</th>\n",
              "      <th>Mes_sin</th>\n",
              "      <th>Mes_cos</th>\n",
              "      <th>Día_sin</th>\n",
              "      <th>Día_cos</th>\n",
              "    </tr>\n",
              "  </thead>\n",
              "  <tbody>\n",
              "    <tr>\n",
              "      <th>0</th>\n",
              "      <td>2025-01-15</td>\n",
              "      <td>100</td>\n",
              "      <td>1</td>\n",
              "      <td>2025</td>\n",
              "      <td>15</td>\n",
              "      <td>0.500000</td>\n",
              "      <td>8.660254e-01</td>\n",
              "      <td>0.255353</td>\n",
              "      <td>0.966848</td>\n",
              "    </tr>\n",
              "    <tr>\n",
              "      <th>1</th>\n",
              "      <td>2025-02-20</td>\n",
              "      <td>150</td>\n",
              "      <td>2</td>\n",
              "      <td>2025</td>\n",
              "      <td>51</td>\n",
              "      <td>0.866025</td>\n",
              "      <td>5.000000e-01</td>\n",
              "      <td>0.769415</td>\n",
              "      <td>0.638749</td>\n",
              "    </tr>\n",
              "    <tr>\n",
              "      <th>2</th>\n",
              "      <td>2025-03-10</td>\n",
              "      <td>200</td>\n",
              "      <td>3</td>\n",
              "      <td>2025</td>\n",
              "      <td>69</td>\n",
              "      <td>1.000000</td>\n",
              "      <td>6.123234e-17</td>\n",
              "      <td>0.927542</td>\n",
              "      <td>0.373720</td>\n",
              "    </tr>\n",
              "    <tr>\n",
              "      <th>3</th>\n",
              "      <td>2025-04-05</td>\n",
              "      <td>180</td>\n",
              "      <td>4</td>\n",
              "      <td>2025</td>\n",
              "      <td>95</td>\n",
              "      <td>0.866025</td>\n",
              "      <td>-5.000000e-01</td>\n",
              "      <td>0.997917</td>\n",
              "      <td>-0.064508</td>\n",
              "    </tr>\n",
              "    <tr>\n",
              "      <th>4</th>\n",
              "      <td>2025-05-25</td>\n",
              "      <td>220</td>\n",
              "      <td>5</td>\n",
              "      <td>2025</td>\n",
              "      <td>145</td>\n",
              "      <td>0.500000</td>\n",
              "      <td>-8.660254e-01</td>\n",
              "      <td>0.601624</td>\n",
              "      <td>-0.798779</td>\n",
              "    </tr>\n",
              "  </tbody>\n",
              "</table>\n",
              "</div>"
            ],
            "text/plain": [
              "       Fecha  Ventas  Mes   Año  Día   Mes_sin       Mes_cos   Día_sin  \\\n",
              "0 2025-01-15     100    1  2025   15  0.500000  8.660254e-01  0.255353   \n",
              "1 2025-02-20     150    2  2025   51  0.866025  5.000000e-01  0.769415   \n",
              "2 2025-03-10     200    3  2025   69  1.000000  6.123234e-17  0.927542   \n",
              "3 2025-04-05     180    4  2025   95  0.866025 -5.000000e-01  0.997917   \n",
              "4 2025-05-25     220    5  2025  145  0.500000 -8.660254e-01  0.601624   \n",
              "\n",
              "    Día_cos  \n",
              "0  0.966848  \n",
              "1  0.638749  \n",
              "2  0.373720  \n",
              "3 -0.064508  \n",
              "4 -0.798779  "
            ]
          },
          "execution_count": 5,
          "metadata": {},
          "output_type": "execute_result"
        }
      ],
      "source": [
        "#@daredliuth\n",
        "#Extraer el mes, año y día.\n",
        "df[\"Mes\"] = df[\"Fecha\"].dt.month\n",
        "df[\"Año\"] = df[\"Fecha\"].dt.year\n",
        "df[\"Día\"] = df[\"Fecha\"].dt.dayofyear\n",
        "\n",
        "#Codificación cíclica.\n",
        "df[\"Mes_sin\"] = np.sin(2 * np.pi * df[\"Mes\"] / 12)\n",
        "df[\"Mes_cos\"] = np.cos(2 * np.pi * df[\"Mes\"] / 12)\n",
        "\n",
        "df[\"Día_sin\"] = np.sin(2 * np.pi * df[\"Día\"] / 365)\n",
        "df[\"Día_cos\"] = np.cos(2 * np.pi * df[\"Día\"] / 365)\n",
        "\n",
        "df.head()"
      ]
    },
    {
      "cell_type": "code",
      "execution_count": 6,
      "metadata": {},
      "outputs": [
        {
          "data": {
            "text/plain": [
              "[]"
            ]
          },
          "execution_count": 6,
          "metadata": {},
          "output_type": "execute_result"
        },
        {
          "data": {
            "image/png": "[encoded data removed]",
            "text/plain": [
              "<Figure size 640x480 with 1 Axes>"
            ]
          },
          "metadata": {},
          "output_type": "display_data"
        }
      ],
      "source": [
        "plt.figure()\n",
        "plt.scatter(df[\"Mes_sin\"],df[\"Mes_cos\"])\n",
        "plt.plot()"
      ]
    },
    {
      "cell_type": "markdown",
      "metadata": {
        "id": "xrs39v5dXGuU"
      },
      "source": [
        "# Distribución y dispersión de los datos"
      ]
    },
    {
      "cell_type": "code",
      "execution_count": 7,
      "metadata": {
        "colab": {
          "base_uri": "https://localhost:8080/"
        },
        "collapsed": true,
        "id": "6DNUV-2A4-8S",
        "outputId": "0e2e9eee-e09d-4d9d-b345-9b51ff181b96"
      },
      "outputs": [
        {
          "name": "stdout",
          "output_type": "stream",
          "text": [
            "  Tienda Categoria  Ventas  Unidades_vendidas\n",
            "0   Este     Hogar  125.88                  5\n",
            "1  Oeste      Ropa  188.56                 10\n",
            "2  Norte      Ropa  248.13                  4\n",
            "3   Este      Ropa  189.52                  4\n",
            "4   Este      Ropa  161.30                  4\n"
          ]
        }
      ],
      "source": [
        "np.random.seed(42)  # Para reproducibilidad\n",
        "\n",
        "data = {\n",
        "    \"Tienda\": np.random.choice([\"Norte\", \"Sur\", \"Este\", \"Oeste\"], size=100),\n",
        "    \"Categoria\": np.random.choice([\"Electrónica\", \"Ropa\", \"Hogar\"], size=100),\n",
        "    \"Ventas\": np.random.normal(loc=200, scale=50, size=100).round(2),  # Distribución normal\n",
        "    \"Unidades_vendidas\": np.random.poisson(lam=5, size=100)\n",
        "}\n",
        "\n",
        "df = pd.DataFrame(data)\n",
        "print(df.head())"
      ]
    },
    {
      "cell_type": "code",
      "execution_count": 8,
      "metadata": {},
      "outputs": [
        {
          "data": {
            "image/png": "[encoded data removed]",
            "text/plain": [
              "<Figure size 800x400 with 1 Axes>"
            ]
          },
          "metadata": {},
          "output_type": "display_data"
        }
      ],
      "source": [
        "#@daredliuth\n",
        "#Histograma de ventas\n",
        "\n",
        "plt.figure(figsize=(8,4))\n",
        "sns.histplot(df[\"Ventas\"],bins=20)\n",
        "plt.title(\"Histograma de ventas\")\n",
        "plt.xlabel(\"Ventas\")\n",
        "plt.ylabel(\"Frecuencia\")\n",
        "plt.show()"
      ]
    },
    {
      "cell_type": "code",
      "execution_count": 9,
      "metadata": {},
      "outputs": [
        {
          "data": {
            "image/png": "[encoded data removed]",
            "text/plain": [
              "<Figure size 800x400 with 1 Axes>"
            ]
          },
          "metadata": {},
          "output_type": "display_data"
        }
      ],
      "source": [
        "#@daredliuth\n",
        "#KDE de ventas.\n",
        "plt.figure(figsize=(8,4))\n",
        "sns.kdeplot(df[\"Ventas\"], fill=True)\n",
        "plt.title(\"Densidad de ventas\")\n",
        "plt.xlabel(\"Ventas\")\n",
        "plt.show()"
      ]
    },
    {
      "cell_type": "code",
      "execution_count": 10,
      "metadata": {},
      "outputs": [
        {
          "data": {
            "image/png": "[encoded data removed]",
            "text/plain": [
              "<Figure size 800x400 with 1 Axes>"
            ]
          },
          "metadata": {},
          "output_type": "display_data"
        }
      ],
      "source": [
        "#Boxplot de ventas por categoría.\n",
        "plt.figure(figsize=(8,4))\n",
        "sns.boxplot(x=\"Categoria\", y=\"Ventas\", data=df)\n",
        "plt.title(\"Boxplot de ventas por categoría\")\n",
        "plt.show()"
      ]
    },
    {
      "cell_type": "code",
      "execution_count": 11,
      "metadata": {},
      "outputs": [
        {
          "data": {
            "image/png": "[encoded data removed]",
            "text/plain": [
              "<Figure size 800x400 with 1 Axes>"
            ]
          },
          "metadata": {},
          "output_type": "display_data"
        }
      ],
      "source": [
        "#Gráfico de dispersión\n",
        "plt.figure(figsize=(8,4))\n",
        "sns.scatterplot(data=df, x=\"Unidades_vendidas\", y=\"Ventas\")\n",
        "plt.title(\"Ventas vs Unidades vendidas\")\n",
        "plt.xlabel(\"Ventas\")\n",
        "plt.ylabel(\"Unidades vendidas\")\n",
        "plt.show()"
      ]
    },
    {
      "cell_type": "markdown",
      "metadata": {
        "id": "kQuGlK4NX34D"
      },
      "source": [
        "# Análisis de datos faltantes"
      ]
    },
    {
      "cell_type": "code",
      "execution_count": 12,
      "metadata": {
        "id": "OXEYYmjo_Wjm"
      },
      "outputs": [
        {
          "data": {
            "text/html": [
              "<div>\n",
              "<style scoped>\n",
              "    .dataframe tbody tr th:only-of-type {\n",
              "        vertical-align: middle;\n",
              "    }\n",
              "\n",
              "    .dataframe tbody tr th {\n",
              "        vertical-align: top;\n",
              "    }\n",
              "\n",
              "    .dataframe thead th {\n",
              "        text-align: right;\n",
              "    }\n",
              "</style>\n",
              "<table border=\"1\" class=\"dataframe\">\n",
              "  <thead>\n",
              "    <tr style=\"text-align: right;\">\n",
              "      <th></th>\n",
              "      <th>Edad</th>\n",
              "      <th>Ingresos</th>\n",
              "      <th>Genero</th>\n",
              "      <th>Ciudad</th>\n",
              "      <th>Compras</th>\n",
              "    </tr>\n",
              "  </thead>\n",
              "  <tbody>\n",
              "    <tr>\n",
              "      <th>0</th>\n",
              "      <td>25.0</td>\n",
              "      <td>50000.0</td>\n",
              "      <td>Masculino</td>\n",
              "      <td>CDMX</td>\n",
              "      <td>5.0</td>\n",
              "    </tr>\n",
              "    <tr>\n",
              "      <th>1</th>\n",
              "      <td>NaN</td>\n",
              "      <td>60000.0</td>\n",
              "      <td>Femenino</td>\n",
              "      <td>Guadalajara</td>\n",
              "      <td>7.0</td>\n",
              "    </tr>\n",
              "    <tr>\n",
              "      <th>2</th>\n",
              "      <td>35.0</td>\n",
              "      <td>NaN</td>\n",
              "      <td>NaN</td>\n",
              "      <td>Monterrey</td>\n",
              "      <td>6.0</td>\n",
              "    </tr>\n",
              "    <tr>\n",
              "      <th>3</th>\n",
              "      <td>40.0</td>\n",
              "      <td>80000.0</td>\n",
              "      <td>Masculino</td>\n",
              "      <td>NaN</td>\n",
              "      <td>8.0</td>\n",
              "    </tr>\n",
              "    <tr>\n",
              "      <th>4</th>\n",
              "      <td>29.0</td>\n",
              "      <td>55000.0</td>\n",
              "      <td>Femenino</td>\n",
              "      <td>CDMX</td>\n",
              "      <td>NaN</td>\n",
              "    </tr>\n",
              "  </tbody>\n",
              "</table>\n",
              "</div>"
            ],
            "text/plain": [
              "   Edad  Ingresos     Genero       Ciudad  Compras\n",
              "0  25.0   50000.0  Masculino         CDMX      5.0\n",
              "1   NaN   60000.0   Femenino  Guadalajara      7.0\n",
              "2  35.0       NaN        NaN    Monterrey      6.0\n",
              "3  40.0   80000.0  Masculino          NaN      8.0\n",
              "4  29.0   55000.0   Femenino         CDMX      NaN"
            ]
          },
          "execution_count": 12,
          "metadata": {},
          "output_type": "execute_result"
        }
      ],
      "source": [
        "data = {\n",
        "    \"Edad\": [25, np.nan, 35, 40, 29, 31, np.nan, 28, 50, 45],\n",
        "    \"Ingresos\": [50000, 60000, np.nan, 80000, 55000, np.nan, 62000, 70000, 72000, np.nan],\n",
        "    \"Genero\": [\"Masculino\", \"Femenino\", np.nan, \"Masculino\", \"Femenino\", \"Masculino\", \"Femenino\", np.nan, \"Femenino\", \"Masculino\"],\n",
        "    \"Ciudad\": [\"CDMX\", \"Guadalajara\", \"Monterrey\", np.nan, \"CDMX\", \"Guadalajara\", \"Monterrey\", \"CDMX\", np.nan, \"Monterrey\"],\n",
        "    \"Compras\": [5, 7, 6, 8, np.nan, 4, 3, 7, 5, np.nan]\n",
        "}\n",
        "\n",
        "df = pd.DataFrame(data)\n",
        "df.head()"
      ]
    },
    {
      "cell_type": "code",
      "execution_count": 13,
      "metadata": {},
      "outputs": [
        {
          "data": {
            "text/html": [
              "<div>\n",
              "<style scoped>\n",
              "    .dataframe tbody tr th:only-of-type {\n",
              "        vertical-align: middle;\n",
              "    }\n",
              "\n",
              "    .dataframe tbody tr th {\n",
              "        vertical-align: top;\n",
              "    }\n",
              "\n",
              "    .dataframe thead th {\n",
              "        text-align: right;\n",
              "    }\n",
              "</style>\n",
              "<table border=\"1\" class=\"dataframe\">\n",
              "  <thead>\n",
              "    <tr style=\"text-align: right;\">\n",
              "      <th></th>\n",
              "      <th>Edad</th>\n",
              "      <th>Ingresos</th>\n",
              "      <th>Genero</th>\n",
              "      <th>Ciudad</th>\n",
              "      <th>Compras</th>\n",
              "    </tr>\n",
              "  </thead>\n",
              "  <tbody>\n",
              "    <tr>\n",
              "      <th>0</th>\n",
              "      <td>25.000</td>\n",
              "      <td>50000.0</td>\n",
              "      <td>Masculino</td>\n",
              "      <td>CDMX</td>\n",
              "      <td>5.0</td>\n",
              "    </tr>\n",
              "    <tr>\n",
              "      <th>1</th>\n",
              "      <td>35.375</td>\n",
              "      <td>60000.0</td>\n",
              "      <td>Femenino</td>\n",
              "      <td>Guadalajara</td>\n",
              "      <td>7.0</td>\n",
              "    </tr>\n",
              "    <tr>\n",
              "      <th>2</th>\n",
              "      <td>35.000</td>\n",
              "      <td>NaN</td>\n",
              "      <td>Femenino</td>\n",
              "      <td>Monterrey</td>\n",
              "      <td>6.0</td>\n",
              "    </tr>\n",
              "    <tr>\n",
              "      <th>3</th>\n",
              "      <td>40.000</td>\n",
              "      <td>80000.0</td>\n",
              "      <td>Masculino</td>\n",
              "      <td>CDMX</td>\n",
              "      <td>8.0</td>\n",
              "    </tr>\n",
              "    <tr>\n",
              "      <th>4</th>\n",
              "      <td>29.000</td>\n",
              "      <td>55000.0</td>\n",
              "      <td>Femenino</td>\n",
              "      <td>CDMX</td>\n",
              "      <td>5.5</td>\n",
              "    </tr>\n",
              "  </tbody>\n",
              "</table>\n",
              "</div>"
            ],
            "text/plain": [
              "     Edad  Ingresos     Genero       Ciudad  Compras\n",
              "0  25.000   50000.0  Masculino         CDMX      5.0\n",
              "1  35.375   60000.0   Femenino  Guadalajara      7.0\n",
              "2  35.000       NaN   Femenino    Monterrey      6.0\n",
              "3  40.000   80000.0  Masculino         CDMX      8.0\n",
              "4  29.000   55000.0   Femenino         CDMX      5.5"
            ]
          },
          "execution_count": 13,
          "metadata": {},
          "output_type": "execute_result"
        }
      ],
      "source": [
        "#@daredliuth\n",
        "#Porcentaje de valores faltantes.\n",
        "porcentaje_faltantes = df.isnull().mean() * 100\n",
        "#IMputar edad con media.\n",
        "imputer_media = SimpleImputer(strategy=\"mean\")\n",
        "df[\"Edad\"] = imputer_media.fit_transform(df[[\"Edad\"]])\n",
        "\n",
        "#Imputar ingresos con mediana\n",
        "#imputer_mediana = SimpleImputer(strategy=\"median\")\n",
        "#df[\"Ingresos\"] = imputer_mediana.fit_transform(df[[\"Ingresos\"]])\n",
        "\n",
        "#Imputar Genero con más frecuente.\n",
        "imputer_moda = SimpleImputer(strategy=\"most_frequent\")\n",
        "df[\"Genero\"] = imputer_moda.fit_transform(df[[\"Genero\"]]).ravel()\n",
        "\n",
        "#Imputar ciudad con constante.\n",
        "imputer_const = SimpleImputer(strategy=\"constant\", fill_value=\"CDMX\")\n",
        "df[\"Ciudad\"] = imputer_const.fit_transform(df[[\"Ciudad\"]]).ravel()\n",
        "\n",
        "#Imputar compras con mediana.\n",
        "imputer_mediana = SimpleImputer(strategy=\"median\")\n",
        "df[\"Compras\"] = imputer_mediana.fit_transform(df[[\"Compras\"]])\n",
        "\n",
        "df.head()"
      ]
    },
    {
      "cell_type": "code",
      "execution_count": 14,
      "metadata": {},
      "outputs": [
        {
          "data": {
            "text/html": [
              "<div>\n",
              "<style scoped>\n",
              "    .dataframe tbody tr th:only-of-type {\n",
              "        vertical-align: middle;\n",
              "    }\n",
              "\n",
              "    .dataframe tbody tr th {\n",
              "        vertical-align: top;\n",
              "    }\n",
              "\n",
              "    .dataframe thead th {\n",
              "        text-align: right;\n",
              "    }\n",
              "</style>\n",
              "<table border=\"1\" class=\"dataframe\">\n",
              "  <thead>\n",
              "    <tr style=\"text-align: right;\">\n",
              "      <th></th>\n",
              "      <th>Edad</th>\n",
              "      <th>Ingresos</th>\n",
              "      <th>Genero</th>\n",
              "      <th>Ciudad</th>\n",
              "      <th>Compras</th>\n",
              "    </tr>\n",
              "  </thead>\n",
              "  <tbody>\n",
              "    <tr>\n",
              "      <th>0</th>\n",
              "      <td>25.000</td>\n",
              "      <td>5.0</td>\n",
              "      <td>Masculino</td>\n",
              "      <td>CDMX</td>\n",
              "      <td>5.0</td>\n",
              "    </tr>\n",
              "    <tr>\n",
              "      <th>1</th>\n",
              "      <td>35.375</td>\n",
              "      <td>7.0</td>\n",
              "      <td>Femenino</td>\n",
              "      <td>Guadalajara</td>\n",
              "      <td>7.0</td>\n",
              "    </tr>\n",
              "    <tr>\n",
              "      <th>2</th>\n",
              "      <td>35.000</td>\n",
              "      <td>6.0</td>\n",
              "      <td>Femenino</td>\n",
              "      <td>Monterrey</td>\n",
              "      <td>6.0</td>\n",
              "    </tr>\n",
              "    <tr>\n",
              "      <th>3</th>\n",
              "      <td>40.000</td>\n",
              "      <td>8.0</td>\n",
              "      <td>Masculino</td>\n",
              "      <td>CDMX</td>\n",
              "      <td>8.0</td>\n",
              "    </tr>\n",
              "    <tr>\n",
              "      <th>4</th>\n",
              "      <td>29.000</td>\n",
              "      <td>5.5</td>\n",
              "      <td>Femenino</td>\n",
              "      <td>CDMX</td>\n",
              "      <td>5.5</td>\n",
              "    </tr>\n",
              "    <tr>\n",
              "      <th>5</th>\n",
              "      <td>31.000</td>\n",
              "      <td>4.0</td>\n",
              "      <td>Masculino</td>\n",
              "      <td>Guadalajara</td>\n",
              "      <td>4.0</td>\n",
              "    </tr>\n",
              "    <tr>\n",
              "      <th>6</th>\n",
              "      <td>35.375</td>\n",
              "      <td>3.0</td>\n",
              "      <td>Femenino</td>\n",
              "      <td>Monterrey</td>\n",
              "      <td>3.0</td>\n",
              "    </tr>\n",
              "    <tr>\n",
              "      <th>7</th>\n",
              "      <td>28.000</td>\n",
              "      <td>7.0</td>\n",
              "      <td>Femenino</td>\n",
              "      <td>CDMX</td>\n",
              "      <td>7.0</td>\n",
              "    </tr>\n",
              "    <tr>\n",
              "      <th>8</th>\n",
              "      <td>50.000</td>\n",
              "      <td>5.0</td>\n",
              "      <td>Femenino</td>\n",
              "      <td>CDMX</td>\n",
              "      <td>5.0</td>\n",
              "    </tr>\n",
              "    <tr>\n",
              "      <th>9</th>\n",
              "      <td>45.000</td>\n",
              "      <td>5.5</td>\n",
              "      <td>Masculino</td>\n",
              "      <td>Monterrey</td>\n",
              "      <td>5.5</td>\n",
              "    </tr>\n",
              "  </tbody>\n",
              "</table>\n",
              "</div>"
            ],
            "text/plain": [
              "     Edad  Ingresos     Genero       Ciudad  Compras\n",
              "0  25.000       5.0  Masculino         CDMX      5.0\n",
              "1  35.375       7.0   Femenino  Guadalajara      7.0\n",
              "2  35.000       6.0   Femenino    Monterrey      6.0\n",
              "3  40.000       8.0  Masculino         CDMX      8.0\n",
              "4  29.000       5.5   Femenino         CDMX      5.5\n",
              "5  31.000       4.0  Masculino  Guadalajara      4.0\n",
              "6  35.375       3.0   Femenino    Monterrey      3.0\n",
              "7  28.000       7.0   Femenino         CDMX      7.0\n",
              "8  50.000       5.0   Femenino         CDMX      5.0\n",
              "9  45.000       5.5  Masculino    Monterrey      5.5"
            ]
          },
          "execution_count": 14,
          "metadata": {},
          "output_type": "execute_result"
        }
      ],
      "source": [
        "#@daredliuth\n",
        "#Imputación KNN.\n",
        "knn_imputer = KNNImputer(n_neighbors=3)\n",
        "df[\"Ingresos\"] = knn_imputer.fit_transform(df[[\"Compras\",\"Edad\"]])[:,[0]]\n",
        "df.head(10)"
      ]
    },
    {
      "cell_type": "markdown",
      "metadata": {
        "id": "BnfgOETmXtBB"
      },
      "source": [
        "# Análisis de valores atípicos"
      ]
    },
    {
      "cell_type": "code",
      "execution_count": 15,
      "metadata": {
        "colab": {
          "base_uri": "https://localhost:8080/"
        },
        "id": "rixjh7IWAUnp",
        "outputId": "70029439-6296-4a79-9aa8-397f93ca864b"
      },
      "outputs": [
        {
          "name": "stdout",
          "output_type": "stream",
          "text": [
            "         Edad       Ingresos\n",
            "90  30.485388   46427.880383\n",
            "91  34.843225   56851.190355\n",
            "92  26.489735   51712.749953\n",
            "93  28.361689   40034.089770\n",
            "94  28.039459   51385.447407\n",
            "95  60.000000  120000.000000\n",
            "96  65.000000  150000.000000\n",
            "97  70.000000  200000.000000\n",
            "98  72.000000  250000.000000\n",
            "99  75.000000  300000.000000\n"
          ]
        }
      ],
      "source": [
        "np.random.seed(42)\n",
        "\n",
        "# Datos normales\n",
        "edad = np.random.normal(30, 5, 100)\n",
        "ingresos = np.random.normal(50000, 8000, 100)\n",
        "\n",
        "# Introducir outliers\n",
        "edad[95:] = [60, 65, 70, 72, 75]\n",
        "ingresos[95:] = [120000, 150000, 200000, 250000, 300000]\n",
        "\n",
        "df = pd.DataFrame({\n",
        "    \"Edad\": edad,\n",
        "    \"Ingresos\": ingresos\n",
        "})\n",
        "\n",
        "print(df.tail(10))"
      ]
    },
    {
      "cell_type": "code",
      "execution_count": 16,
      "metadata": {},
      "outputs": [
        {
          "name": "stdout",
          "output_type": "stream",
          "text": [
            "[74, 95, 96, 97, 98, 99]\n"
          ]
        }
      ],
      "source": [
        "#Por métodos estadísticos\n",
        "def detectar_outliers(serie):\n",
        "    Q1 = serie.quantile(0.25)\n",
        "    Q3 = serie.quantile(0.75)\n",
        "    IQR = Q3 - Q1\n",
        "    lower = Q1 - 1.5 * IQR\n",
        "    upper = Q3 + 1.5 * IQR\n",
        "    return (serie < lower) | (serie > upper)\n",
        "\n",
        "outliers_edad = df.index[detectar_outliers(df[\"Edad\"])].tolist()\n",
        "print(outliers_edad)"
      ]
    },
    {
      "cell_type": "code",
      "execution_count": 17,
      "metadata": {},
      "outputs": [
        {
          "data": {
            "image/png": "[encoded data removed]",
            "text/plain": [
              "<Figure size 800x400 with 1 Axes>"
            ]
          },
          "metadata": {},
          "output_type": "display_data"
        }
      ],
      "source": [
        "#Visuales\n",
        "plt.figure(figsize=(8,4))\n",
        "sns.boxplot(x=\"Edad\", data=df)\n",
        "plt.title(\"Boxplot de edad\")\n",
        "plt.show()"
      ]
    },
    {
      "cell_type": "code",
      "execution_count": 18,
      "metadata": {},
      "outputs": [
        {
          "name": "stdout",
          "output_type": "stream",
          "text": [
            "Index([ 1,  1,  1,  1,  1,  1,  1,  1,  1,  1,  1,  1,  1,  1,  1,  1,  1,  1,\n",
            "        1,  1,  1,  1,  1,  1,  1,  1,  1,  1,  1,  1,  1,  1,  1,  1,  1,  1,\n",
            "        1,  1,  1,  1,  1,  1,  1,  1,  1,  1,  1,  1,  1,  1,  1,  1,  1,  1,\n",
            "        1,  1,  1,  1,  1,  1,  1,  1,  1,  1,  1,  1,  1,  1,  1,  1,  1,  1,\n",
            "        1,  1, 99,  1,  1,  1,  1,  1,  1,  1,  1,  1,  1,  1,  1,  1,  1,  1,\n",
            "        1,  1,  1,  1,  1, 99, 99, 99,  1, 99],\n",
            "      dtype='int64')\n"
          ]
        }
      ],
      "source": [
        "#Bosque de isolación (Isolation Forest). xd\n",
        "\n",
        "iso_for = IsolationForest(contamination=0.05)\n",
        "outliers_edadIF = df.index[iso_for.fit_predict(df[[\"Edad\"]])]\n",
        "print(outliers_edadIF)"
      ]
    },
    {
      "cell_type": "markdown",
      "metadata": {
        "id": "QYL5uWGTYEXv"
      },
      "source": [
        "# Datos personales"
      ]
    },
    {
      "cell_type": "code",
      "execution_count": 19,
      "metadata": {
        "id": "rV5j2ja-O19L"
      },
      "outputs": [],
      "source": [
        "data = {\n",
        "    \"Nombre\": [\"Juan Pérez\", \"Ana García\", \"Luis Torres\", \"Marta López\", \"Carlos Ruiz\"],\n",
        "    \"Edad\": [23, 45, 34, 29, 52],\n",
        "    \"Email\": [\"juanp@gmail.com\", \"ana_g@hotmail.com\", \"luis.torres@yahoo.com\", \"martalopez@gmail.com\", \"carlosr@outlook.com\"],\n",
        "    \"Teléfono\": [\"555-1234\", \"555-5678\", \"555-8765\", \"555-4321\", \"555-3456\"],\n",
        "    \"Ciudad\": [\"CDMX\", \"Monterrey\", \"Guadalajara\", \"CDMX\", \"Puebla\"],\n",
        "    \"Salario\": [35000, 55000, 42000, 39000, 60000]\n",
        "}\n",
        "\n",
        "df = pd.DataFrame(data)"
      ]
    },
    {
      "cell_type": "code",
      "execution_count": 20,
      "metadata": {},
      "outputs": [
        {
          "data": {
            "text/html": [
              "<div>\n",
              "<style scoped>\n",
              "    .dataframe tbody tr th:only-of-type {\n",
              "        vertical-align: middle;\n",
              "    }\n",
              "\n",
              "    .dataframe tbody tr th {\n",
              "        vertical-align: top;\n",
              "    }\n",
              "\n",
              "    .dataframe thead th {\n",
              "        text-align: right;\n",
              "    }\n",
              "</style>\n",
              "<table border=\"1\" class=\"dataframe\">\n",
              "  <thead>\n",
              "    <tr style=\"text-align: right;\">\n",
              "      <th></th>\n",
              "      <th>Nombre</th>\n",
              "      <th>Edad</th>\n",
              "      <th>Teléfono</th>\n",
              "      <th>Ciudad</th>\n",
              "      <th>Salario</th>\n",
              "    </tr>\n",
              "  </thead>\n",
              "  <tbody>\n",
              "    <tr>\n",
              "      <th>0</th>\n",
              "      <td>ID_001</td>\n",
              "      <td>23</td>\n",
              "      <td>****-1234</td>\n",
              "      <td>CDMX</td>\n",
              "      <td>Bajo</td>\n",
              "    </tr>\n",
              "    <tr>\n",
              "      <th>1</th>\n",
              "      <td>ID_002</td>\n",
              "      <td>45</td>\n",
              "      <td>****-5678</td>\n",
              "      <td>Monterrey</td>\n",
              "      <td>Alto</td>\n",
              "    </tr>\n",
              "    <tr>\n",
              "      <th>2</th>\n",
              "      <td>ID_003</td>\n",
              "      <td>34</td>\n",
              "      <td>****-8765</td>\n",
              "      <td>Guadalajara</td>\n",
              "      <td>Medio</td>\n",
              "    </tr>\n",
              "    <tr>\n",
              "      <th>3</th>\n",
              "      <td>ID_004</td>\n",
              "      <td>29</td>\n",
              "      <td>****-4321</td>\n",
              "      <td>CDMX</td>\n",
              "      <td>Bajo</td>\n",
              "    </tr>\n",
              "    <tr>\n",
              "      <th>4</th>\n",
              "      <td>ID_005</td>\n",
              "      <td>52</td>\n",
              "      <td>****-3456</td>\n",
              "      <td>Puebla</td>\n",
              "      <td>Alto</td>\n",
              "    </tr>\n",
              "  </tbody>\n",
              "</table>\n",
              "</div>"
            ],
            "text/plain": [
              "   Nombre  Edad   Teléfono       Ciudad Salario\n",
              "0  ID_001    23  ****-1234         CDMX    Bajo\n",
              "1  ID_002    45  ****-5678    Monterrey    Alto\n",
              "2  ID_003    34  ****-8765  Guadalajara   Medio\n",
              "3  ID_004    29  ****-4321         CDMX    Bajo\n",
              "4  ID_005    52  ****-3456       Puebla    Alto"
            ]
          },
          "execution_count": 20,
          "metadata": {},
          "output_type": "execute_result"
        }
      ],
      "source": [
        "#@daredliuth\n",
        "#Lista de comprensión.\n",
        "df[\"Nombre\"] = [\"ID_{:03d}\".format(i) for i in range(1,len(df) + 1)]\n",
        "\n",
        "#Enmascarar teléfono.\n",
        "def enmascarar(telefono):\n",
        "    return \"****-\" + telefono[-4:]\n",
        "\n",
        "df[\"Teléfono\"] = df[\"Teléfono\"].apply(enmascarar)\n",
        "\n",
        "#Eliminar correo.\n",
        "df = df.drop(columns=[\"Email\"])\n",
        "\n",
        "#Generalizar salario.\n",
        "def salario_gen(salario):\n",
        "    if salario >= 55000:\n",
        "        return \"Alto\"\n",
        "    elif(salario < 40000):\n",
        "        return \"Bajo\"\n",
        "    else:\n",
        "        return \"Medio\"\n",
        "\n",
        "df[\"Salario\"] = df[\"Salario\"].apply(salario_gen)\n",
        "df.head()"
      ]
    },
    {
      "cell_type": "markdown",
      "metadata": {
        "id": "joQaC28QYlwy"
      },
      "source": [
        "# Normalización y escalado de variables"
      ]
    },
    {
      "cell_type": "code",
      "execution_count": 21,
      "metadata": {
        "id": "p6DkrbDxR1RE"
      },
      "outputs": [],
      "source": [
        "data = {\n",
        "    \"Edad\": [18, 22, 35, 45, 60, 75],               # Rango pequeño\n",
        "    \"Ingresos\": [15000, 18000, 35000, 60000, 85000, 120000],  # Rango grande\n",
        "    \"Gastos\": [200, 250, 300, 500, 700, 1000]       # Mediano\n",
        "}\n",
        "\n",
        "df = pd.DataFrame(data)"
      ]
    },
    {
      "cell_type": "code",
      "execution_count": 22,
      "metadata": {},
      "outputs": [
        {
          "data": {
            "text/html": [
              "<div>\n",
              "<style scoped>\n",
              "    .dataframe tbody tr th:only-of-type {\n",
              "        vertical-align: middle;\n",
              "    }\n",
              "\n",
              "    .dataframe tbody tr th {\n",
              "        vertical-align: top;\n",
              "    }\n",
              "\n",
              "    .dataframe thead th {\n",
              "        text-align: right;\n",
              "    }\n",
              "</style>\n",
              "<table border=\"1\" class=\"dataframe\">\n",
              "  <thead>\n",
              "    <tr style=\"text-align: right;\">\n",
              "      <th></th>\n",
              "      <th>Edad</th>\n",
              "      <th>Ingresos</th>\n",
              "      <th>Gastos</th>\n",
              "    </tr>\n",
              "  </thead>\n",
              "  <tbody>\n",
              "    <tr>\n",
              "      <th>0</th>\n",
              "      <td>0.000000</td>\n",
              "      <td>0.000000</td>\n",
              "      <td>0.0000</td>\n",
              "    </tr>\n",
              "    <tr>\n",
              "      <th>1</th>\n",
              "      <td>0.070175</td>\n",
              "      <td>0.028571</td>\n",
              "      <td>0.0625</td>\n",
              "    </tr>\n",
              "    <tr>\n",
              "      <th>2</th>\n",
              "      <td>0.298246</td>\n",
              "      <td>0.190476</td>\n",
              "      <td>0.1250</td>\n",
              "    </tr>\n",
              "    <tr>\n",
              "      <th>3</th>\n",
              "      <td>0.473684</td>\n",
              "      <td>0.428571</td>\n",
              "      <td>0.3750</td>\n",
              "    </tr>\n",
              "    <tr>\n",
              "      <th>4</th>\n",
              "      <td>0.736842</td>\n",
              "      <td>0.666667</td>\n",
              "      <td>0.6250</td>\n",
              "    </tr>\n",
              "  </tbody>\n",
              "</table>\n",
              "</div>"
            ],
            "text/plain": [
              "       Edad  Ingresos  Gastos\n",
              "0  0.000000  0.000000  0.0000\n",
              "1  0.070175  0.028571  0.0625\n",
              "2  0.298246  0.190476  0.1250\n",
              "3  0.473684  0.428571  0.3750\n",
              "4  0.736842  0.666667  0.6250"
            ]
          },
          "execution_count": 22,
          "metadata": {},
          "output_type": "execute_result"
        }
      ],
      "source": [
        "#@daredliuth\n",
        "\n",
        "minmax_scaler = MinMaxScaler()\n",
        "d = minmax_scaler.fit_transform(df)\n",
        "df1 = pd.DataFrame(d, columns = df.columns)\n",
        "df1.head()"
      ]
    }
  ],
  "metadata": {
    "colab": {
      "provenance": []
    },
    "kernelspec": {
      "display_name": "AmbienteMódulo7",
      "language": "python",
      "name": "python3"
    },
    "language_info": {
      "codemirror_mode": {
        "name": "ipython",
        "version": 3
      },
      "file_extension": ".py",
      "mimetype": "text/x-python",
      "name": "python",
      "nbconvert_exporter": "python",
      "pygments_lexer": "ipython3",
      "version": "3.13.2"
    }
  },
  "nbformat": 4,
  "nbformat_minor": 0
}
