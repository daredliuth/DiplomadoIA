{
 "cells": [
  {
   "cell_type": "code",
   "execution_count": null,
   "metadata": {},
   "outputs": [
    {
     "name": "stdout",
     "output_type": "stream",
     "text": [
      "Solución: None\n"
     ]
    }
   ],
   "source": [
    "# actividad de busca informada \n",
    "import numpy\n",
    "import heapq\n",
    "import copy\n",
    "\n",
    "# Estado objetivo del puzzle (la configuración final)\n",
    "goal_state = [1, 2, 3, 4, 5, 6, 7, 8, 0]\n",
    "estadoInicial = [1,2,3,8,0,4,7,6,5]\n",
    "#goal_state = [1, 2, 0]\n",
    "#estadoInicial = [1,0,2]\n",
    "tam = 3\n",
    "\n",
    "# Función heurística: distancia de Manhattan\n",
    "def manhattan_distance(state):\n",
    "    distance = 0\n",
    "    for i in range(tam):\n",
    "        if state[i] != 0:\n",
    "            goal_pos = goal_state.index(state[i])\n",
    "            x1, y1 = i // 3, i % 3\n",
    "            x2, y2 = goal_pos // 3, goal_pos % 3\n",
    "            distance += abs(x1 - x2) + abs(y1 - y2)\n",
    "    return distance\n",
    "\n",
    "def EstadoSiguiente(estado):\n",
    "    posicion = 0\n",
    "    estadoAux = copy.deepcopy(estado)\n",
    "    estados = []\n",
    "    for i in range(tam):\n",
    "        if estado[i] == 0:\n",
    "            posicion = i\n",
    "    for i in range(tam):\n",
    "        estadoAux = copy.deepcopy(estado)\n",
    "        estadoAux[posicion] = estado[i]\n",
    "        estadoAux[i] = 0\n",
    "        estados.append(estadoAux)\n",
    "    return estados\n",
    "\n",
    "def AEstrella(estado):\n",
    "    abiertos = []\n",
    "    cerrados = []\n",
    "    abiertos.append(estado)\n",
    "    while abiertos:\n",
    "        estado = heapq.heappop(abiertos)\n",
    "        if estado[1] == goal_state:\n",
    "            return estado[1]\n",
    "        cerrados.append(estado[1])\n",
    "        for hijo in EstadoSiguiente(estado[1]):\n",
    "            if hijo not in cerrados:\n",
    "                heapq.heappush(abiertos, (manhattan_distance(hijo), hijo))\n",
    "    return None\n",
    "\n",
    "print(f\"Solución: {AEstrella(estadoInicial)}\")\n",
    "\n",
    "#print(f\"Distancia estado actual: {manhattan_distance(estadoInicial)}\")\n",
    "#print(f\"Estado actual {estadoInicial}\")\n",
    "#niños = EstadoSiguiente(estadoInicial)\n",
    "#print(f\"Estados siguientes: \\n\")\n",
    "#for elemento in EstadoSiguiente(estadoInicial):\n",
    "#    print(f\"{elemento}\\n\")"
   ]
  },
  {
   "cell_type": "code",
   "execution_count": null,
   "metadata": {},
   "outputs": [],
   "source": []
  }
 ],
 "metadata": {
  "kernelspec": {
   "display_name": "Ambiente",
   "language": "python",
   "name": "python3"
  },
  "language_info": {
   "codemirror_mode": {
    "name": "ipython",
    "version": 3
   },
   "file_extension": ".py",
   "mimetype": "text/x-python",
   "name": "python",
   "nbconvert_exporter": "python",
   "pygments_lexer": "ipython3",
   "version": "3.12.4"
  }
 },
 "nbformat": 4,
 "nbformat_minor": 2
}
