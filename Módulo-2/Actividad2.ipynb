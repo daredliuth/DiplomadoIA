{
 "cells": [
  {
   "cell_type": "markdown",
   "metadata": {},
   "source": [
    "## Actividad 2: Algoritmos de búsqueda (no informada)\n",
    "### Eliuth Montiel Navarrete"
   ]
  },
  {
   "cell_type": "markdown",
   "metadata": {},
   "source": [
    "<h3>1.- Búsqueda en profundidad</h3>"
   ]
  },
  {
   "cell_type": "code",
   "execution_count": 37,
   "metadata": {},
   "outputs": [
    {
     "name": "stdout",
     "output_type": "stream",
     "text": [
      "Estamos en el nodo A\n",
      "Estamos en el nodo B\n",
      "Estamos en el nodo D\n",
      "Estamos en el nodo E\n",
      "Estamos en el nodo C\n",
      "Estamos en el nodo F\n",
      "Estamos en el nodo G\n",
      "Estamos en el nodo H\n",
      "Se encontrón el nodo objetivo H, siguiendo el camino:\n",
      "['A', 'C', 'F', 'H']\n"
     ]
    },
    {
     "data": {
      "text/plain": [
       "True"
      ]
     },
     "execution_count": 37,
     "metadata": {},
     "output_type": "execute_result"
    }
   ],
   "source": [
    "#Aplicar el algoritmo de búsqueda en profundidad para un grafo (50 pts).\n",
    "\n",
    "#Creamos un grafo.\n",
    "grafo = {\n",
    "    'A': ['B', 'C'],\n",
    "    'B': ['D', 'E'],\n",
    "    'C': ['F'],\n",
    "    'D': [],\n",
    "    'E': [],\n",
    "    'F': ['G','H'],\n",
    "    'G': [],\n",
    "    'H': []\n",
    "}\n",
    "\n",
    "#Creamos el nodo inicial y el nodo a buscar.\n",
    "nodoInicial = 'A'\n",
    "nodoObjetivo = 'H'\n",
    "\n",
    "#Función para realizar la búsqueda en profundidad.\n",
    "def BusquedaProfundidad(grafo, nodo, objetivo, visitados=None, camino=None):\n",
    "    if visitados is None:\n",
    "        visitados = set()\n",
    "        camino = []\n",
    "    visitados.add(nodo)\n",
    "    camino.append(nodo)\n",
    "    print(f'Estamos en el nodo {nodo}')\n",
    "    \n",
    "    if nodo == objetivo:\n",
    "        print(f'Se encontrón el nodo objetivo {objetivo}, siguiendo el camino:\\n{camino}')\n",
    "        return True\n",
    "    for hijo in grafo[nodo]:\n",
    "        if hijo not in visitados:\n",
    "            if BusquedaProfundidad(grafo, hijo, objetivo, visitados, camino):\n",
    "                return True\n",
    "            else:\n",
    "                camino.pop()\n",
    "    if (len(camino) <= 1):\n",
    "        print(f'No se encontró el nodo objetivo {objetivo}.')\n",
    "        return False\n",
    "    \n",
    "\n",
    "BusquedaProfundidad(grafo, nodoInicial, nodoObjetivo)"
   ]
  },
  {
   "cell_type": "markdown",
   "metadata": {},
   "source": [
    "<h3>2.- 8-puzzle</h3>"
   ]
  },
  {
   "cell_type": "code",
   "execution_count": 40,
   "metadata": {},
   "outputs": [
    {
     "name": "stdout",
     "output_type": "stream",
     "text": [
      "Cola. jsjsjs: deque(['A'])\n",
      "Nodo actual: A\n",
      "Nodo actual: B\n",
      "Nodo actual: C\n",
      "Nodo actual: A\n",
      "Nodo actual: D\n",
      "Nodo actual: E\n",
      "Nodo actual: A\n",
      "Nodo actual: F\n",
      "¿Existe camino de A a F?: True\n"
     ]
    }
   ],
   "source": [
    "#Resolver el 8-puzzle usando la búsqueda en anchura (50pts)\n",
    "\n",
    "from collections import deque\n",
    "\n",
    "def busqueda_amplitud(grafo, inicio, objetivo):\n",
    "    visitados = set()\n",
    "    cola = deque([inicio])\n",
    "    print(f'Cola. jsjsjs: {cola}')\n",
    "    while cola:\n",
    "        nodo = cola.popleft()\n",
    "        print(f'Nodo actual: {nodo}')\n",
    "        if nodo == objetivo:\n",
    "            return True\n",
    "        if nodo not in visitados:\n",
    "            visitados.add(nodo)\n",
    "            cola.extend(grafo[nodo])\n",
    "    return False\n",
    "\n",
    "# Grafo de ejemplo (representación de un laberinto)\n",
    "grafo = {\n",
    "    'A': ['B', 'C'],\n",
    "    'B': ['A', 'D', 'E'],\n",
    "    'C': ['A', 'F'],\n",
    "    'D': ['B'],\n",
    "    'E': ['B', 'F'],\n",
    "    'F': ['C', 'E']\n",
    "}\n",
    "\n",
    "# Buscar si existe un camino de A a F\n",
    "existe_camino = busqueda_amplitud(grafo, 'A', 'F')\n",
    "print(f\"¿Existe camino de A a F?: {existe_camino}\")"
   ]
  }
 ],
 "metadata": {
  "kernelspec": {
   "display_name": "AmbienteMódulo2",
   "language": "python",
   "name": "python3"
  },
  "language_info": {
   "codemirror_mode": {
    "name": "ipython",
    "version": 3
   },
   "file_extension": ".py",
   "mimetype": "text/x-python",
   "name": "python",
   "nbconvert_exporter": "python",
   "pygments_lexer": "ipython3",
   "version": "3.13.2"
  }
 },
 "nbformat": 4,
 "nbformat_minor": 2
}
