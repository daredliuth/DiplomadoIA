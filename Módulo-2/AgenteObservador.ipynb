{
 "cells": [
  {
   "cell_type": "code",
   "execution_count": 1,
   "metadata": {},
   "outputs": [
    {
     "name": "stdout",
     "output_type": "stream",
     "text": [
      "Evento 1: Usuario A ha iniciado sesión\n",
      "Evento 2: Usuario B ha comprado un producto\n",
      "Evento 3: Usuario A ha cerrado sesión\n"
     ]
    }
   ],
   "source": [
    "#Actividad 5: Agentes Observadores\n",
    "#\n",
    "#Objetivo: Implementar un agente que observe y registre cambios en un entorno.\n",
    "#\n",
    "#Descripción de la actividad: Crear un agente observador que registre los eventos de cambio de un entorno a lo largo del tiempo #(por ejemplo, observar las acciones de los usuarios en una plataforma).\n",
    "#\n",
    "\n",
    "#Código de ejemplo:\n",
    "class AgenteObservador:\n",
    "    def __init__(self):\n",
    "        self.eventos = []\n",
    "    \n",
    "    def observar(self, evento):\n",
    "        self.eventos.append(evento)\n",
    "\n",
    "    def mostrar_eventos(self):\n",
    "        for i, evento in enumerate(self.eventos, 1):\n",
    "            print(f\"Evento {i}: {evento}\")\n",
    "\n",
    "# Crear el agente observador\n",
    "agente = AgenteObservador()\n",
    "\n",
    "# Simulamos algunos eventos\n",
    "agente.observar(\"Usuario A ha iniciado sesión\")\n",
    "agente.observar(\"Usuario B ha comprado un producto\")\n",
    "agente.observar(\"Usuario A ha cerrado sesión\")\n",
    "\n",
    "# Mostrar eventos observados\n",
    "agente.mostrar_eventos()"
   ]
  }
 ],
 "metadata": {
  "kernelspec": {
   "display_name": "Ambiente",
   "language": "python",
   "name": "python3"
  },
  "language_info": {
   "codemirror_mode": {
    "name": "ipython",
    "version": 3
   },
   "file_extension": ".py",
   "mimetype": "text/x-python",
   "name": "python",
   "nbconvert_exporter": "python",
   "pygments_lexer": "ipython3",
   "version": "3.12.4"
  }
 },
 "nbformat": 4,
 "nbformat_minor": 2
}
