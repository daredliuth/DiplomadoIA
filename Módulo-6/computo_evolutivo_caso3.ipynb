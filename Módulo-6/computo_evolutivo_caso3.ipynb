{
  "cells": [
    {
      "cell_type": "markdown",
      "metadata": {
        "id": "rpKK6GcwXwCg"
      },
      "source": [
        "# Caso de estudio 3: Optimización de la producción en una fábrica\n",
        "\n",
        "Imagina que diriges una fábrica que produce varios productos, y cada producto tiene una demanda, un costo de producción y un precio de venta. Tu objetivo es maximizar el beneficio total, respetando las restricciones de capacidad de la fábrica y la demanda de cada producto.\n",
        "\n",
        "### Información con la que cuentas:\n",
        "- **Demanda**: Número máximo de unidades que se pueden vender de cada producto.\n",
        "- **Costo de producción**: Costo de producir una unidad de cada producto.\n",
        "- **Precio de venta**: Ingreso por vender una unidad de cada producto.\n",
        "- **Capacidad de producción**: Número máximo de unidades que la fábrica puede producir en total.\n",
        "\n",
        "El objetivo es determinar cuántas unidades de cada producto deben producirse para maximizar el beneficio total.\n",
        "\n",
        "### Representación de las soluciones\n",
        "\n",
        "- Cada solución se va a representar como una lista de números enteros que indica la cantidad de cada producto a producir.\n",
        "- Por ejemplo, `[10, 5, 3]` significa que se producen 10 unidades del producto 1, 5 unidades del producto 2, y 3 unidades del producto 3.\n",
        "\n",
        "\n"
      ]
    },
    {
      "cell_type": "code",
      "execution_count": 23,
      "metadata": {
        "id": "VvQJbnxrW74e"
      },
      "outputs": [],
      "source": [
        "# Importación de bibliotecas\n",
        "import random\n",
        "import numpy as np\n",
        "import matplotlib.pyplot as plt"
      ]
    },
    {
      "cell_type": "markdown",
      "metadata": {
        "id": "Og4jdA7OYZpY"
      },
      "source": [
        "## Parámetros del Problema\n",
        "\n",
        "Definimos los parámetros del problema: demanda, costos, precios y capacidad de la fábrica.\n"
      ]
    },
    {
      "cell_type": "code",
      "execution_count": 24,
      "metadata": {
        "id": "0ZUeebU5YevP"
      },
      "outputs": [],
      "source": [
        "demanda = [30, 45, 30]  # Demanda máxima de cada producto\n",
        "costos = [4, 6, 8]      # Costo de producción por unidad de cada producto\n",
        "precios = [10, 14, 20]  # Precio de venta por unidad de cada producto\n",
        "capacidad = 100          # Capacidad total de producción de la fábrica\n"
      ]
    },
    {
      "cell_type": "markdown",
      "metadata": {
        "id": "_WIJpB4kYkBY"
      },
      "source": [
        "## Función de aptitud\n",
        "\n",
        "Calculamos el beneficio total de una solución y penalizamos aquellas que exceden la capacidad de producción."
      ]
    },
    {
      "cell_type": "code",
      "execution_count": 25,
      "metadata": {
        "colab": {
          "base_uri": "https://localhost:8080/"
        },
        "id": "YGu520P8Yz8z",
        "outputId": "224d2c4e-0fd6-45f6-8168-86110e3e7b97"
      },
      "outputs": [
        {
          "name": "stdout",
          "output_type": "stream",
          "text": [
            "Aptitud de: 226\n"
          ]
        }
      ],
      "source": [
        "#def calcular_aptitud(solucion, demanda, costos, precios, capacidad):\n",
        "#    produccion_total = sum(solucion)\n",
        "#    if produccion_total > capacidad:\n",
        "#        return 0  # Penalización si se excede la capacidad\n",
        "#\n",
        "#    beneficio = sum((precios[i] - costos[i]) * min(solucion[i], demanda[i]) for i in range(len(solucion)))\n",
        "#    return beneficio\n",
        "\n",
        "#@daredliuth: Este lo hice io.\n",
        "def calcular_aptitud(solucion, demanda, costos, precios, capacidad):\n",
        "    produccion_total = sum(solucion)\n",
        "\n",
        "    beneficio = sum((precios[i] - costos[i]) * min(solucion[i], demanda[i]) for i in range(len(solucion)))\n",
        "    factor = 1\n",
        "    return beneficio - (factor * max(solucion[i] - capacidad for i in range(len(solucion))))\n",
        "\n",
        "# Por ejemplo:\n",
        "solucion = [10, 5, 3]\n",
        "print(f\"Aptitud de: {calcular_aptitud(solucion, demanda, costos, precios, capacidad)}\")\n"
      ]
    },
    {
      "cell_type": "markdown",
      "metadata": {
        "id": "57c0-ODmZP1-"
      },
      "source": [
        "## Actividad 1:\n",
        "- Agrega una segunda versión de la función de aptitud para que la penalización se realice con un factor multiplicativo $\\lambda$, como vimos en la clase.\n",
        "- Evalúa cómo afecta esto en la solución del problema de optimización, ¿Qué función de aptitud tuvo mejores resultados?"
      ]
    },
    {
      "cell_type": "markdown",
      "metadata": {
        "id": "8vM0N-bnaOTQ"
      },
      "source": [
        "## Inicialización de la población\n",
        "\n",
        "Generamos una población inicial de posibles soluciones aleatorias.\n"
      ]
    },
    {
      "cell_type": "code",
      "execution_count": 26,
      "metadata": {
        "colab": {
          "base_uri": "https://localhost:8080/"
        },
        "id": "M9SMYCphaM9m",
        "outputId": "07468480-ece4-4f57-8879-a15b1a45fe17"
      },
      "outputs": [
        {
          "name": "stdout",
          "output_type": "stream",
          "text": [
            "[[27  3 15]\n",
            " [19 39 10]\n",
            " [ 5 21 26]\n",
            " [23 36 22]\n",
            " [ 5 44 13]\n",
            " [11  8  1]\n",
            " [ 7 26  9]\n",
            " [19 25 29]\n",
            " [18 33 12]\n",
            " [ 8 12 19]]\n"
          ]
        }
      ],
      "source": [
        "def generar_poblacion(tamano_poblacion, num_productos, demanda):\n",
        "    poblacion = np.random.randint(demanda, size=(tamano_poblacion, num_productos))\n",
        "    return poblacion\n",
        "\n",
        "# Por ejemplo:\n",
        "poblacion_inicial = generar_poblacion(10, len(demanda), demanda)\n",
        "print(poblacion_inicial)"
      ]
    },
    {
      "cell_type": "markdown",
      "metadata": {
        "id": "0gJf-Gr7T2Ln"
      },
      "source": [
        "## Selección: Ruleta\n",
        "\n",
        "Seleccionamos soluciones probabilísticamente según su aptitud.\n"
      ]
    },
    {
      "cell_type": "code",
      "execution_count": 27,
      "metadata": {
        "colab": {
          "base_uri": "https://localhost:8080/"
        },
        "id": "FzAXjmW8T1jA",
        "outputId": "0a1f6abb-5a36-4d77-f7ff-0b9b84570780"
      },
      "outputs": [
        {
          "name": "stdout",
          "output_type": "stream",
          "text": [
            "Padres seleccionados: [array([ 8, 12, 19]), array([19, 25, 29])]\n"
          ]
        }
      ],
      "source": [
        "# Selección de padres\n",
        "def seleccion(poblacion, aptitudes):\n",
        "    total_aptitud = np.sum(aptitudes)\n",
        "\n",
        "    # Evitar división por cero si todas las aptitudes son cero\n",
        "    if total_aptitud == 0:\n",
        "        probabilidades = np.ones(len(poblacion)) / len(poblacion)\n",
        "    else:\n",
        "        probabilidades = aptitudes / total_aptitud\n",
        "\n",
        "    # Selecciona dos individuos con probabilidad proporcional a su aptitud\n",
        "    indices = np.random.choice(len(poblacion), size=2, p=probabilidades)\n",
        "    return [poblacion[i] for i in indices] # Return a list of selected individuals\n",
        "\n",
        "\n",
        "aptitudes = [calcular_aptitud(sol, demanda, costos, precios, capacidad) for sol in poblacion_inicial]\n",
        "padres = seleccion(poblacion_inicial, aptitudes)\n",
        "print(f\"Padres seleccionados: {padres}\")\n"
      ]
    },
    {
      "cell_type": "markdown",
      "metadata": {
        "id": "OGKqNaUxbXjC"
      },
      "source": [
        "### Operador de cruce: cruce de un punto\n",
        "\n",
        "Elegimos un punto de cruce y combinamos dos soluciones para crear dos nuevas.\n"
      ]
    },
    {
      "cell_type": "code",
      "execution_count": 28,
      "metadata": {
        "colab": {
          "base_uri": "https://localhost:8080/"
        },
        "id": "nCj14Tb_blE-",
        "outputId": "8461a82e-db44-4b41-ba92-c0a7d985c4b7"
      },
      "outputs": [
        {
          "name": "stdout",
          "output_type": "stream",
          "text": [
            "Hijo 1: [10  8 15]\n",
            "Hijo 2: [3 5 3]\n"
          ]
        }
      ],
      "source": [
        "def cruce_punto_unico(padre1, padre2):\n",
        "    punto_cruce = np.random.randint(1, len(padre1))\n",
        "    hijo1 = np.concatenate((padre1[:punto_cruce], padre2[punto_cruce:]))\n",
        "    hijo2 = np.concatenate((padre2[:punto_cruce], padre1[punto_cruce:]))\n",
        "    return hijo1, hijo2\n",
        "\n",
        "padre1 = [10, 5, 3]\n",
        "padre2 = [3, 8, 15]\n",
        "hijo1, hijo2 = cruce_punto_unico(padre1, padre2)\n",
        "print(f\"Hijo 1: {hijo1}\")\n",
        "print(f\"Hijo 2: {hijo2}\")\n"
      ]
    },
    {
      "cell_type": "markdown",
      "metadata": {
        "id": "xHeVXf-_bwiT"
      },
      "source": [
        "## Operador de mutación: mutación de desplazamiento\n",
        "\n",
        "Modificamos la cantidad de un producto.\n"
      ]
    },
    {
      "cell_type": "code",
      "execution_count": 29,
      "metadata": {
        "colab": {
          "base_uri": "https://localhost:8080/"
        },
        "id": "vA0Bos6EcA21",
        "outputId": "3846bd36-441d-46e6-9aa1-e0d5eca58095"
      },
      "outputs": [
        {
          "name": "stdout",
          "output_type": "stream",
          "text": [
            "Solución antes de mutación: [10, 5, 3]\n",
            "Solución después de mutación: [10  3  3]\n"
          ]
        }
      ],
      "source": [
        "def mutacion_creep(solucion, demanda, creep=2):\n",
        "    idx = np.random.randint(0, len(solucion) - 1)\n",
        "    solucion[idx] += np.random.choice([-1, 1])*creep\n",
        "    return np.clip(solucion, a_min=0, a_max=None)\n",
        "\n",
        "# mutacion de reajuste aleatorio\n",
        "\n",
        "solucion = [10, 5, 3]\n",
        "print(f\"Solución antes de mutación: {solucion}\")\n",
        "solucion_mutada = mutacion_creep(solucion, demanda)\n",
        "print(f\"Solución después de mutación: {solucion_mutada}\")\n"
      ]
    },
    {
      "cell_type": "markdown",
      "metadata": {
        "id": "630FuFBVcUPv"
      },
      "source": [
        "## Actividad 2:\n",
        "- Implementa la mutación por reajuste aleatorio y compara los resultados al aplicar cada una sobre el algoritmo. ¿Qué mutación tuvo mejores resultados?"
      ]
    },
    {
      "cell_type": "markdown",
      "metadata": {
        "id": "wVoerOkOZg4I"
      },
      "source": [
        "## Algoritmo Genético Completo"
      ]
    },
    {
      "cell_type": "code",
      "execution_count": 30,
      "metadata": {
        "colab": {
          "base_uri": "https://localhost:8080/"
        },
        "id": "VffQKla2Zi0E",
        "outputId": "abfbdd1e-95de-44da-b604-09e144fca456"
      },
      "outputs": [
        {
          "name": "stdout",
          "output_type": "stream",
          "text": [
            "Generación 1: Mejor aptitud = 722\n",
            "Generación 2: Mejor aptitud = 734\n",
            "Generación 3: Mejor aptitud = 734\n",
            "Generación 4: Mejor aptitud = 761\n",
            "Generación 5: Mejor aptitud = 824\n",
            "Generación 6: Mejor aptitud = 836\n",
            "Generación 7: Mejor aptitud = 848\n",
            "Generación 8: Mejor aptitud = 848\n",
            "Generación 9: Mejor aptitud = 864\n",
            "Generación 10: Mejor aptitud = 864\n",
            "Generación 11: Mejor aptitud = 864\n",
            "Generación 12: Mejor aptitud = 882\n",
            "Generación 13: Mejor aptitud = 890\n",
            "Generación 14: Mejor aptitud = 904\n",
            "Generación 15: Mejor aptitud = 904\n",
            "Generación 16: Mejor aptitud = 910\n",
            "Generación 17: Mejor aptitud = 918\n",
            "Generación 18: Mejor aptitud = 924\n",
            "Generación 19: Mejor aptitud = 924\n",
            "Generación 20: Mejor aptitud = 924\n",
            "Generación 21: Mejor aptitud = 930\n",
            "Generación 22: Mejor aptitud = 930\n",
            "Generación 23: Mejor aptitud = 930\n",
            "Generación 24: Mejor aptitud = 930\n",
            "Generación 25: Mejor aptitud = 930\n",
            "Generación 26: Mejor aptitud = 930\n",
            "Generación 27: Mejor aptitud = 930\n",
            "Generación 28: Mejor aptitud = 930\n",
            "Generación 29: Mejor aptitud = 930\n",
            "Generación 30: Mejor aptitud = 930\n",
            "Generación 31: Mejor aptitud = 930\n",
            "Generación 32: Mejor aptitud = 930\n",
            "Generación 33: Mejor aptitud = 930\n",
            "Generación 34: Mejor aptitud = 930\n",
            "Generación 35: Mejor aptitud = 930\n",
            "Generación 36: Mejor aptitud = 930\n",
            "Generación 37: Mejor aptitud = 930\n",
            "Generación 38: Mejor aptitud = 930\n",
            "Generación 39: Mejor aptitud = 930\n",
            "Generación 40: Mejor aptitud = 930\n",
            "Generación 41: Mejor aptitud = 930\n",
            "Generación 42: Mejor aptitud = 930\n",
            "Generación 43: Mejor aptitud = 930\n",
            "Generación 44: Mejor aptitud = 930\n",
            "Generación 45: Mejor aptitud = 930\n",
            "Generación 46: Mejor aptitud = 930\n",
            "Generación 47: Mejor aptitud = 930\n",
            "Generación 48: Mejor aptitud = 930\n",
            "Generación 49: Mejor aptitud = 930\n",
            "Generación 50: Mejor aptitud = 930\n",
            "Mejor solución: [41 46 28]\n"
          ]
        }
      ],
      "source": [
        "def algoritmo_genetico(num_generaciones, tamano_poblacion, demanda, costos, precios, capacidad):\n",
        "    poblacion = generar_poblacion(tamano_poblacion, len(demanda), demanda)\n",
        "    for generacion in range(num_generaciones):\n",
        "        nueva_poblacion = []\n",
        "\n",
        "        aptitudes = [calcular_aptitud(sol, demanda, costos, precios, capacidad) for sol in poblacion]\n",
        "\n",
        "        for _ in range(tamano_poblacion // 2):\n",
        "            padres = seleccion(poblacion, aptitudes)\n",
        "            hijo1, hijo2 = cruce_punto_unico(padres[0], padres[1])\n",
        "            nueva_poblacion.append(mutacion_creep(hijo1, demanda))\n",
        "            nueva_poblacion.append(mutacion_creep(hijo2, demanda))\n",
        "        # Reemplazo parcial: seleccionar la mitad mejor de la población actual\n",
        "        mitad_poblacion_actual = np.argsort(aptitudes)[::-1][:tamano_poblacion // 2]\n",
        "        poblacion = np.concatenate((poblacion[mitad_poblacion_actual],\n",
        "                                   nueva_poblacion))\n",
        "\n",
        "        mejor_individuo = poblacion[np.argmax([calcular_aptitud(sol, demanda, costos, precios, capacidad) for sol in poblacion])]\n",
        "        mejor_aptitud = calcular_aptitud(mejor_individuo, demanda, costos, precios, capacidad)\n",
        "        print(f'Generación {generacion + 1}: Mejor aptitud = {mejor_aptitud}')\n",
        "\n",
        "    return mejor_individuo\n",
        "\n",
        "mejor_solucion = algoritmo_genetico(num_generaciones=50, tamano_poblacion=10, demanda=demanda, costos=costos, precios=precios, capacidad=capacidad)\n",
        "print(f\"Mejor solución: {mejor_solucion}\")\n"
      ]
    },
    {
      "cell_type": "markdown",
      "metadata": {
        "id": "2Com9v-KzurE"
      },
      "source": [
        "### Actividad 3:\n",
        "- Experimenta con el número de generaciones y el tamaño de la población. ¿Cómo afectan estos parámetros a la solución final?\n"
      ]
    },
    {
      "cell_type": "markdown",
      "metadata": {
        "id": "0d0BDGmk6GlP"
      },
      "source": [
        "Finalmente, visualizamos la cantidad óptima de producción de cada producto.\n"
      ]
    },
    {
      "cell_type": "code",
      "execution_count": 31,
      "metadata": {
        "colab": {
          "base_uri": "https://localhost:8080/",
          "height": 475
        },
        "id": "BFFwZnfJ6Fhy",
        "outputId": "217c4ee3-7966-4a77-db64-c13ba24127df"
      },
      "outputs": [
        {
          "data": {
            "image/png": "[encoded data removed]",
            "text/plain": [
              "<Figure size 640x480 with 1 Axes>"
            ]
          },
          "metadata": {},
          "output_type": "display_data"
        }
      ],
      "source": [
        "import matplotlib.pyplot as plt\n",
        "\n",
        "productos = ['Producto 1', 'Producto 2', 'Producto 3']\n",
        "plt.bar(productos, mejor_solucion)\n",
        "plt.title('Producción Óptima por Producto')\n",
        "plt.xlabel('Productos')\n",
        "plt.ylabel('Cantidad Producida')\n",
        "plt.show()\n"
      ]
    }
  ],
  "metadata": {
    "colab": {
      "provenance": []
    },
    "kernelspec": {
      "display_name": "AmbienteMódulo6",
      "language": "python",
      "name": "python3"
    },
    "language_info": {
      "codemirror_mode": {
        "name": "ipython",
        "version": 3
      },
      "file_extension": ".py",
      "mimetype": "text/x-python",
      "name": "python",
      "nbconvert_exporter": "python",
      "pygments_lexer": "ipython3",
      "version": "3.13.2"
    }
  },
  "nbformat": 4,
  "nbformat_minor": 0
}
