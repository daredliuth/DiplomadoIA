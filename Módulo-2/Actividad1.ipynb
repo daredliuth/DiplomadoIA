{
 "cells": [
  {
   "cell_type": "markdown",
   "metadata": {
    "vscode": {
     "languageId": "html"
    }
   },
   "source": [
    "## Actividad 1: Agentes inteligentes\n",
    "### Eliuth Montiel Navarrete"
   ]
  },
  {
   "cell_type": "markdown",
   "metadata": {},
   "source": [
    "<h3>1.- Agente inteligente básico</h3>"
   ]
  },
  {
   "cell_type": "code",
   "execution_count": null,
   "metadata": {},
   "outputs": [],
   "source": [
    "#Crear un agente inteligente básico en algún lenguaje de programación (e.g Python)\n",
    "#que realice una tarea sencilla, como elegir una acción basada en su entorno.\n",
    "#Por ejemplo, un agente que elige aleatoriamente entre moverse hacia una dirección u otra en un entorno bidimensional.\n",
    "\n",
    "import random\n",
    "import math\n",
    "\n",
    "# Definimos el agente\n",
    "class AgenteInteligente:\n",
    "    #Constructor del agente.\n",
    "    def __init__(self):\n",
    "        self.posicion = (0, 0)\n",
    "        self.posicionAnterior = (0,0)\n",
    "        self.costo = 0\n",
    "        self.costoTotal = 0\n",
    "    #Función para mover el agente.\n",
    "    def mover(self):\n",
    "        # El agente se mueve aleatoriamente en 4 direcciones\n",
    "        movimientos = [(0, 1), (0, -1), (1, 0), (-1, 0), (0,0), (1,1), (-1,-1), (1,-1), (-1,1)]\n",
    "        movimiento = (random.choice(movimientos)[0]*random.randint(1,10),random.choice(movimientos)[1]*random.randint(1,10))\n",
    "        self.posicionAnterior = self.posicion\n",
    "        self.posicion = (self.posicion[0] + movimiento[0], self.posicion[1] + movimiento[1])\n",
    "        return self.posicion\n",
    "    #Función para calcular la distancia euclidiana entre posiciones.\n",
    "    def DistanciaEuclidiana(self):\n",
    "        self.costo = math.sqrt(math.pow(self.posicion[0] - self.posicionAnterior[0],2) + math.pow(self.posicion[1] - self.posicionAnterior[1],2))\n",
    "        self.costoTotal += self.costo\n",
    "        return self.costo\n",
    "\n",
    "#Creamos el agente.s\n",
    "agente = AgenteInteligente()\n",
    "\n",
    "# Simulamos los movimientos.\n",
    "for i in range(10):\n",
    "    print(f\"Movimiento {i+1}: Agente en posición {agente.mover()} con un costo de {agente.DistanciaEuclidiana()}\")\n",
    "print(f\"Costo total: {agente.costoTotal}\")"
   ]
  },
  {
   "cell_type": "markdown",
   "metadata": {},
   "source": [
    "<h3>2.- Agente de recomendación</h3>"
   ]
  },
  {
   "cell_type": "code",
   "execution_count": null,
   "metadata": {},
   "outputs": [],
   "source": [
    "#Crear un sistema sencillo que recomiende productos basándose en la similitud\n",
    "#de preferencias de otros usuarios. Usaremos la técnica de filtrado colaborativo basado en usuarios.\n",
    "\n",
    "import numpy\n",
    "from sklearn.metrics.pairwise import cosine_similarity\n",
    "import copy\n",
    "\n",
    "#Matriz de calificaciones (usuarios x productos)\n",
    "#Filas: Usuarios, Columnas: Productos\n",
    "calificaciones = numpy.array([\n",
    "    [5, 4, 0, 1],\n",
    "    [4, 0, 4, 1],\n",
    "    [1, 1, 0, 5],\n",
    "    [0, 0, 5, 4]\n",
    "]) \n",
    "distancias = []\n",
    "\n",
    "#Calcular similitudes entre usuarios\n",
    "similitudes = cosine_similarity(calificaciones)\n",
    "\n",
    "for usuario in range(4):\n",
    "  #Obtenemos los productos recomendados por el usuario.\n",
    "  productos_recomendados = similitudes[usuario].argsort()[::-1]\n",
    "  print(f\"Productos recomendados para el usuario {usuario}: {productos_recomendados}\")\n",
    "  #Comparamos al usuario actual con los demás usuarios.\n",
    "  for usuarioAux in range(4):\n",
    "    productos = cosine_similarity([calificaciones[usuario],calificaciones[usuarioAux]])\n",
    "    distancias.append(productos[0][1])\n",
    "  distanciasAux = copy.deepcopy(distancias)\n",
    "  distanciasAux.sort()\n",
    "  #Elegimos al usuario con la menor distancia.\n",
    "  for i in range(4):\n",
    "    if distancias[i]==distanciasAux[2]:\n",
    "      mejorCoincidencia = i\n",
    "  print(f\"El usuario más parecido a {usuario} es {mejorCoincidencia}\")\n",
    "  distancias.clear()\n",
    "  #Hacemos la recomendación de los elementos mejor evaluados por el usuario con mayor similitud.\n",
    "  mejorCalificado = copy.deepcopy(calificaciones[mejorCoincidencia])\n",
    "  mejorCalificado.sort()\n",
    "  for i in range(4):\n",
    "    if calificaciones[mejorCoincidencia][i] == mejorCalificado[3]:\n",
    "      print(f\"Le recomendaremos al usuario {usuario} el elemento {i}\")\n",
    "  print(\"\\n\")"
   ]
  },
  {
   "cell_type": "markdown",
   "metadata": {},
   "source": [
    "<h3>3.- Agente comparador</h3>"
   ]
  },
  {
   "cell_type": "code",
   "execution_count": null,
   "metadata": {},
   "outputs": [],
   "source": [
    "#Crear un sistema donde el agente compare los precios de productos de diferentes categorías\n",
    "#y seleccione el más barato, dado un conjunto de productos con características.\n",
    "\n",
    "# Productos con precios y características\n",
    "productos = [\n",
    "    {\"nombre\": \"Producto A\", \"precio\": 100, \"caracteristicas\": [\"rojo\", \"plástico\"]},\n",
    "    {\"nombre\": \"Producto B\", \"precio\": 80, \"caracteristicas\": [\"rojo\", \"metal\"]},\n",
    "    {\"nombre\": \"Producto C\", \"precio\": 120, \"caracteristicas\": [\"azul\", \"plástico\"]},\n",
    "]\n",
    "\n",
    "# Agente comparativo\n",
    "def recomendar_producto(productos):\n",
    "    producto_recomendado = min(productos, key=lambda x: x[\"precio\"])\n",
    "    return producto_recomendado\n",
    "\n",
    "producto = recomendar_producto(productos)\n",
    "print(f\"Producto recomendado: {producto['nombre']} con precio: {producto['precio']}\")"
   ]
  },
  {
   "cell_type": "markdown",
   "metadata": {},
   "source": [
    "<h3>4.- Agente observador</h3>"
   ]
  },
  {
   "cell_type": "code",
   "execution_count": null,
   "metadata": {},
   "outputs": [],
   "source": [
    "#Crear un agente observador que registre los eventos de cambio de un entorno a lo largo del tiempo\n",
    "#(por ejemplo, observar las acciones de los usuarios en una plataforma).\n",
    "\n",
    "class AgenteObservador:\n",
    "    def __init__(self):\n",
    "        self.eventos = []\n",
    "    \n",
    "    def observar(self, evento):\n",
    "        self.eventos.append(evento)\n",
    "\n",
    "    def mostrar_eventos(self):\n",
    "        for i, evento in enumerate(self.eventos, 1):\n",
    "            print(f\"Evento {i}: {evento}\")\n",
    "\n",
    "#Crear el agente observador\n",
    "agente = AgenteObservador()\n",
    "\n",
    "# Simulamos algunos eventos\n",
    "agente.observar(\"Usuario A ha iniciado sesión\")\n",
    "agente.observar(\"Usuario B ha comprado un producto\")\n",
    "agente.observar(\"Usuario A ha cerrado sesión\")\n",
    "\n",
    "#Mostrar eventos observados\n",
    "agente.mostrar_eventos()"
   ]
  }
 ],
 "metadata": {
  "kernelspec": {
   "display_name": "AmbienteMódulo2",
   "language": "python",
   "name": "python3"
  },
  "language_info": {
   "codemirror_mode": {
    "name": "ipython",
    "version": 3
   },
   "file_extension": ".py",
   "mimetype": "text/x-python",
   "name": "python",
   "nbconvert_exporter": "python",
   "pygments_lexer": "ipython3",
   "version": "3.13.2"
  }
 },
 "nbformat": 4,
 "nbformat_minor": 2
}
