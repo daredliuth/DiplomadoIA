{
 "cells": [
  {
   "cell_type": "markdown",
   "id": "3b2c3a22",
   "metadata": {},
   "source": [
    "## Actividad 1: Regresión lineal\n",
    "### Montiel Navarrete Eliuth"
   ]
  },
  {
   "cell_type": "code",
   "execution_count": null,
   "id": "50a920bb",
   "metadata": {},
   "outputs": [],
   "source": [
    "#Bibliotecas\n",
    "import pandas as pd\n",
    "import numpy as np\n",
    "from sklearn.model_selection import train_test_split\n",
    "from sklearn.linear_model import LinearRegression\n",
    "from sklearn.metrics import root_mean_squared_error, r2_score"
   ]
  },
  {
   "cell_type": "code",
   "execution_count": 61,
   "id": "ca25f729",
   "metadata": {},
   "outputs": [
    {
     "name": "stderr",
     "output_type": "stream",
     "text": [
      "<>:3: SyntaxWarning: invalid escape sequence '\\s'\n",
      "<>:3: SyntaxWarning: invalid escape sequence '\\s'\n",
      "/tmp/ipykernel_11379/1935323685.py:3: SyntaxWarning: invalid escape sequence '\\s'\n",
      "  raw_df = pd.read_csv(url, sep=\"\\s+\", skiprows=22, header=None)\n"
     ]
    },
    {
     "data": {
      "text/html": [
       "<div>\n",
       "<style scoped>\n",
       "    .dataframe tbody tr th:only-of-type {\n",
       "        vertical-align: middle;\n",
       "    }\n",
       "\n",
       "    .dataframe tbody tr th {\n",
       "        vertical-align: top;\n",
       "    }\n",
       "\n",
       "    .dataframe thead th {\n",
       "        text-align: right;\n",
       "    }\n",
       "</style>\n",
       "<table border=\"1\" class=\"dataframe\">\n",
       "  <thead>\n",
       "    <tr style=\"text-align: right;\">\n",
       "      <th></th>\n",
       "      <th>0</th>\n",
       "      <th>1</th>\n",
       "      <th>2</th>\n",
       "      <th>3</th>\n",
       "      <th>4</th>\n",
       "      <th>5</th>\n",
       "      <th>6</th>\n",
       "      <th>7</th>\n",
       "      <th>8</th>\n",
       "      <th>9</th>\n",
       "      <th>10</th>\n",
       "      <th>11</th>\n",
       "    </tr>\n",
       "  </thead>\n",
       "  <tbody>\n",
       "    <tr>\n",
       "      <th>0</th>\n",
       "      <td>0.00632</td>\n",
       "      <td>18.0</td>\n",
       "      <td>2.31</td>\n",
       "      <td>0.0</td>\n",
       "      <td>0.538</td>\n",
       "      <td>6.575</td>\n",
       "      <td>65.2</td>\n",
       "      <td>4.0900</td>\n",
       "      <td>1.0</td>\n",
       "      <td>296.0</td>\n",
       "      <td>15.3</td>\n",
       "      <td>4.98</td>\n",
       "    </tr>\n",
       "    <tr>\n",
       "      <th>1</th>\n",
       "      <td>0.02731</td>\n",
       "      <td>0.0</td>\n",
       "      <td>7.07</td>\n",
       "      <td>0.0</td>\n",
       "      <td>0.469</td>\n",
       "      <td>6.421</td>\n",
       "      <td>78.9</td>\n",
       "      <td>4.9671</td>\n",
       "      <td>2.0</td>\n",
       "      <td>242.0</td>\n",
       "      <td>17.8</td>\n",
       "      <td>9.14</td>\n",
       "    </tr>\n",
       "    <tr>\n",
       "      <th>2</th>\n",
       "      <td>0.02729</td>\n",
       "      <td>0.0</td>\n",
       "      <td>7.07</td>\n",
       "      <td>0.0</td>\n",
       "      <td>0.469</td>\n",
       "      <td>7.185</td>\n",
       "      <td>61.1</td>\n",
       "      <td>4.9671</td>\n",
       "      <td>2.0</td>\n",
       "      <td>242.0</td>\n",
       "      <td>17.8</td>\n",
       "      <td>4.03</td>\n",
       "    </tr>\n",
       "    <tr>\n",
       "      <th>3</th>\n",
       "      <td>0.03237</td>\n",
       "      <td>0.0</td>\n",
       "      <td>2.18</td>\n",
       "      <td>0.0</td>\n",
       "      <td>0.458</td>\n",
       "      <td>6.998</td>\n",
       "      <td>45.8</td>\n",
       "      <td>6.0622</td>\n",
       "      <td>3.0</td>\n",
       "      <td>222.0</td>\n",
       "      <td>18.7</td>\n",
       "      <td>2.94</td>\n",
       "    </tr>\n",
       "    <tr>\n",
       "      <th>4</th>\n",
       "      <td>0.06905</td>\n",
       "      <td>0.0</td>\n",
       "      <td>2.18</td>\n",
       "      <td>0.0</td>\n",
       "      <td>0.458</td>\n",
       "      <td>7.147</td>\n",
       "      <td>54.2</td>\n",
       "      <td>6.0622</td>\n",
       "      <td>3.0</td>\n",
       "      <td>222.0</td>\n",
       "      <td>18.7</td>\n",
       "      <td>5.33</td>\n",
       "    </tr>\n",
       "  </tbody>\n",
       "</table>\n",
       "</div>"
      ],
      "text/plain": [
       "        0     1     2    3      4      5     6       7    8      9     10  \\\n",
       "0  0.00632  18.0  2.31  0.0  0.538  6.575  65.2  4.0900  1.0  296.0  15.3   \n",
       "1  0.02731   0.0  7.07  0.0  0.469  6.421  78.9  4.9671  2.0  242.0  17.8   \n",
       "2  0.02729   0.0  7.07  0.0  0.469  7.185  61.1  4.9671  2.0  242.0  17.8   \n",
       "3  0.03237   0.0  2.18  0.0  0.458  6.998  45.8  6.0622  3.0  222.0  18.7   \n",
       "4  0.06905   0.0  2.18  0.0  0.458  7.147  54.2  6.0622  3.0  222.0  18.7   \n",
       "\n",
       "     11  \n",
       "0  4.98  \n",
       "1  9.14  \n",
       "2  4.03  \n",
       "3  2.94  \n",
       "4  5.33  "
      ]
     },
     "execution_count": 61,
     "metadata": {},
     "output_type": "execute_result"
    }
   ],
   "source": [
    "#Obtención de los datos\n",
    "url = \"http://lib.stat.cmu.edu/datasets/boston\"\n",
    "raw_df = pd.read_csv(url, sep=\"\\s+\", skiprows=22, header=None)\n",
    "datos = np.hstack([raw_df.values[::2, :],\n",
    "raw_df.values[1::2, 1:2]])\n",
    "objetivo = raw_df.values[1::2, 2]\n",
    "df = pd.DataFrame(datos)\n",
    "df.head()"
   ]
  },
  {
   "cell_type": "markdown",
   "id": "11050ce6",
   "metadata": {},
   "source": [
    "<h3>Regresión lineal</h3>"
   ]
  },
  {
   "cell_type": "code",
   "execution_count": 62,
   "id": "9f8b917a",
   "metadata": {},
   "outputs": [
    {
     "data": {
      "text/plain": [
       "array([-1.26191305e-01,  3.48557248e-02,  3.67322608e-02,  3.03423407e+00,\n",
       "       -1.91636112e+01,  4.85710622e+00, -3.21750411e-04, -1.45280320e+00,\n",
       "        2.00464727e-01, -9.99639200e-03, -9.01725223e-01, -4.89459119e-01])"
      ]
     },
     "execution_count": 62,
     "metadata": {},
     "output_type": "execute_result"
    }
   ],
   "source": [
    "#Separación de los datos en conjuntos de entrenamiento y de prueba.\n",
    "xEntrenamiento, xPrueba, yEntrenamiento, yPrueba = train_test_split(df,objetivo,test_size=0.2, random_state=42)\n",
    "\n",
    "#Separación de los datos en el conjunto de validación.\n",
    "xEntrenamiento, xValidacion, yEntrenamiento, yValidacion = train_test_split(xEntrenamiento,yEntrenamiento,test_size=0.15,random_state=42)\n",
    "\n",
    "#Creación del modelo de regrsión lineal.\n",
    "modelo = LinearRegression()\n",
    "modelo.fit(xEntrenamiento, yEntrenamiento)\n",
    "modelo.coef_"
   ]
  },
  {
   "cell_type": "code",
   "execution_count": 63,
   "id": "ae301f93",
   "metadata": {},
   "outputs": [
    {
     "data": {
      "text/plain": [
       "array([22.36266124, 20.82635995, 20.63408845, 23.12046995,  5.60684676,\n",
       "       28.33224374, 30.85494563, 34.43564423, 20.91018774, 17.75525899,\n",
       "       27.19520131,  7.31043136, 27.99425231, 17.54738127, 19.52725294,\n",
       "       22.44261118, 10.04541555, 18.3237474 , 21.20277131, 20.46403564,\n",
       "       21.27428737, 17.04018834, 28.51840303, 20.26463987, 21.12776917,\n",
       "       18.35941154, 19.3548454 , 20.59322506, 19.45438498, 13.71812437,\n",
       "       31.43513611, 24.046919  ,  9.85147781, 36.03848082, 41.26095761,\n",
       "       35.53894073, 28.9718329 , 28.25486014, 34.95108976, 17.1029386 ,\n",
       "       17.98811649, 30.89491576, 28.61760981, 28.43867843, 33.0918538 ,\n",
       "       17.38437692, 34.21245181, 28.36326075, 18.11772814, 20.89309724,\n",
       "        1.18128852, 25.01202683, 21.71698749, 13.60694187, 11.27401853,\n",
       "       19.12302379, 20.50119779, 21.46645596, 28.35740811, 34.88132096,\n",
       "        5.4280692 ])"
      ]
     },
     "execution_count": 63,
     "metadata": {},
     "output_type": "execute_result"
    }
   ],
   "source": [
    "#Prueba con los datos de validación.\n",
    "modelo.predict(xValidacion)"
   ]
  },
  {
   "cell_type": "code",
   "execution_count": 64,
   "id": "3503dd18",
   "metadata": {},
   "outputs": [
    {
     "data": {
      "text/plain": [
       "array([21. , 20.4, 19.2, 16.1,  8.5, 24.4, 32.7, 31. , 23.3, 16. , 22.3,\n",
       "       11.8, 25. , 22.6, 13.3, 17.8,  6.3, 19.1, 27.5, 18.8, 25. , 19.5,\n",
       "       36.2, 21.7, 20.2, 19.5, 13.4, 18.3, 24.3, 13.9, 28.7, 26.2, 12. ,\n",
       "       33.3, 46. , 33.4, 33.4, 24.1, 33.1, 14.9, 16.6, 37. , 24.6, 26.4,\n",
       "       36.1, 19.6, 37.9, 31.2, 20.6, 50. ,  8.8, 25.3, 21.7, 14.5, 23.7,\n",
       "       20.4, 20.4, 23.2, 22.5, 35.1,  5. ])"
      ]
     },
     "execution_count": 64,
     "metadata": {},
     "output_type": "execute_result"
    }
   ],
   "source": [
    "#Comprobación con los datos reales.\n",
    "yValidacion"
   ]
  },
  {
   "cell_type": "code",
   "execution_count": 65,
   "id": "ce00d7c8",
   "metadata": {},
   "outputs": [
    {
     "name": "stdout",
     "output_type": "stream",
     "text": [
      "RMSE: 5.343933721105781\n",
      "R2: 0.6439021949122865\n"
     ]
    }
   ],
   "source": [
    "yPrediccion = modelo.predict(xValidacion)\n",
    "rmse = root_mean_squared_error(yValidacion, yPrediccion)\n",
    "print(f\"RMSE: {rmse}\")\n",
    "r2 = r2_score(yValidacion, yPrediccion)\n",
    "print(f\"R2: {r2}\")"
   ]
  }
 ],
 "metadata": {
  "kernelspec": {
   "display_name": "AmbienteMódulo8",
   "language": "python",
   "name": "python3"
  },
  "language_info": {
   "codemirror_mode": {
    "name": "ipython",
    "version": 3
   },
   "file_extension": ".py",
   "mimetype": "text/x-python",
   "name": "python",
   "nbconvert_exporter": "python",
   "pygments_lexer": "ipython3",
   "version": "3.13.2"
  }
 },
 "nbformat": 4,
 "nbformat_minor": 5
}
