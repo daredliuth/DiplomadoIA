{
 "cells": [
  {
   "cell_type": "code",
   "execution_count": null,
   "metadata": {},
   "outputs": [],
   "source": [
    "#Actividad 6: Agentes de Negociación\n",
    "\n",
    " \n",
    "\n",
    "#Objetivo: Simular un agente de negociación que pueda llegar a un acuerdo en un escenario simple.\n",
    "\n",
    " \n",
    "\n",
    "#Descripción de la actividad: Crear un agente de negociación que simule un proceso donde dos agentes \n",
    "\n",
    "#intenten negociar un precio o recurso, eligiendo el valor intermedio más cercano.\n",
    "\n",
    " \n",
    "\n",
    "#Código de ejemplo:\n",
    "\n",
    " \n",
    "\n",
    "def negociar(precio_agente1, precio_agente2):\n",
    "\n",
    "    return (precio_agente1 + precio_agente2) / 2\n",
    "\n",
    " \n",
    "\n",
    "# Precios de los agentes\n",
    "\n",
    "precio_agente1 = 50\n",
    "\n",
    "precio_agente2 = 60\n",
    "\n",
    " \n",
    "\n",
    "# Resultado de la negociación\n",
    "\n",
    "precio_acordado = negociar(precio_agente1, precio_agente2)\n",
    "\n",
    "print(f\"Precio negociado: {precio_acordado}\")"
   ]
  }
 ],
 "metadata": {
  "kernelspec": {
   "display_name": "Ambiente",
   "language": "python",
   "name": "python3"
  },
  "language_info": {
   "name": "python",
   "version": "3.12.4"
  }
 },
 "nbformat": 4,
 "nbformat_minor": 2
}
