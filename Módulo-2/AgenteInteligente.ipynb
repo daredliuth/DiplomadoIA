{
 "cells": [
  {
   "cell_type": "code",
   "execution_count": 2,
   "metadata": {},
   "outputs": [
    {
     "name": "stdout",
     "output_type": "stream",
     "text": [
      "Movimiento 1: Agente en posición (6, 1) con un costo de 6.082762530298219\n",
      "Movimiento 2: Agente en posición (6, 7) con un costo de 6.0\n",
      "Movimiento 3: Agente en posición (11, 7) con un costo de 5.0\n",
      "Movimiento 4: Agente en posición (3, 12) con un costo de 9.433981132056603\n",
      "Movimiento 5: Agente en posición (-2, 11) con un costo de 5.0990195135927845\n",
      "Movimiento 6: Agente en posición (7, 18) con un costo de 11.40175425099138\n",
      "Movimiento 7: Agente en posición (0, 20) con un costo de 7.280109889280518\n",
      "Movimiento 8: Agente en posición (0, 10) con un costo de 10.0\n",
      "Movimiento 9: Agente en posición (-3, 7) con un costo de 4.242640687119285\n",
      "Movimiento 10: Agente en posición (2, 7) con un costo de 5.0\n",
      "Costo total: 69.5402680033388\n"
     ]
    }
   ],
   "source": [
    "import random\n",
    "import math\n",
    "\n",
    "# Definimos el agente\n",
    "class AgenteInteligente:\n",
    "\n",
    "    def __init__(self):\n",
    "        self.posicion = (0, 0)\n",
    "        self.posicionAnterior = (0,0)\n",
    "        self.costo = 0\n",
    "        self.costoTotal = 0\n",
    "\n",
    "    def mover(self):\n",
    "        # El agente se mueve aleatoriamente en 4 direcciones\n",
    "        movimientos = [(0, 1), (0, -1), (1, 0), (-1, 0), (0,0), (1,1), (-1,-1), (1,-1), (-1,1)]\n",
    "        movimiento = (random.choice(movimientos)[0]*random.randint(1,10),random.choice(movimientos)[1]*random.randint(1,10))\n",
    "        self.posicionAnterior = self.posicion\n",
    "        self.posicion = (self.posicion[0] + movimiento[0], self.posicion[1] + movimiento[1])\n",
    "        return self.posicion\n",
    "\n",
    "    def DistanciaEuclidiana(self):\n",
    "        self.costo = math.sqrt(math.pow(self.posicion[0] - self.posicionAnterior[0],2) + math.pow(self.posicion[1] - self.posicionAnterior[1],2))\n",
    "        self.costoTotal += self.costo\n",
    "        return self.costo\n",
    "\n",
    "# Crear un agente\n",
    "agente = AgenteInteligente()\n",
    "\n",
    "# Simular movimientos\n",
    "for i in range(10):\n",
    "    print(f\"Movimiento {i+1}: Agente en posición {agente.mover()} con un costo de {agente.DistanciaEuclidiana()}\")\n",
    "print(f\"Costo total: {agente.costoTotal}\")"
   ]
  }
 ],
 "metadata": {
  "kernelspec": {
   "display_name": "Ambiente",
   "language": "python",
   "name": "python3"
  },
  "language_info": {
   "codemirror_mode": {
    "name": "ipython",
    "version": 3
   },
   "file_extension": ".py",
   "mimetype": "text/x-python",
   "name": "python",
   "nbconvert_exporter": "python",
   "pygments_lexer": "ipython3",
   "version": "3.12.4"
  }
 },
 "nbformat": 4,
 "nbformat_minor": 2
}
