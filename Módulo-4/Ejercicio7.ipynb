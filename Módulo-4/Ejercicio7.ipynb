{
 "cells": [
  {
   "cell_type": "code",
   "execution_count": 10,
   "metadata": {},
   "outputs": [
    {
     "name": "stdout",
     "output_type": "stream",
     "text": [
      "+---------------+---------------+\n",
      "| Lluvia        |   phi(Lluvia) |\n",
      "+===============+===============+\n",
      "| Lluvia(False) |        0.2921 |\n",
      "+---------------+---------------+\n",
      "| Lluvia(True)  |        0.7079 |\n",
      "+---------------+---------------+\n"
     ]
    }
   ],
   "source": [
    "from pgmpy.models import BayesianNetwork\n",
    "from pgmpy.factors.discrete import TabularCPD\n",
    "from pgmpy.inference import VariableElimination\n",
    "\n",
    "# Definir la estructura de la red bayesiana\n",
    "modelo = BayesianNetwork([('Nublado', 'Lluvia'),\n",
    "                          ('Nublado', 'Aspersor'),\n",
    "                          ('Lluvia','HierbaMojada'),\n",
    "                          ('Aspersor','HierbaMojada')])\n",
    "\n",
    "# Definir las probabilidades condicionales (cpd)\n",
    "cpd_nublado = TabularCPD(variable='Nublado', variable_card=2, values=[[0.5], [0.5]], state_names={'Nublado': [False, True]})\n",
    "\n",
    "cpd_lluvia = TabularCPD(variable='Lluvia', variable_card=2,\n",
    "                        values=[[0.80, 0.20],\n",
    "                                [0.20, 0.80]],\n",
    "                        evidence=['Nublado'],\n",
    "                        evidence_card=[2],\n",
    "                        state_names={\n",
    "                                'Lluvia': [False, True],\n",
    "                                'Nublado': [False, True]\n",
    "                        })\n",
    "\n",
    "cpd_aspersor = TabularCPD(variable='Aspersor', variable_card=2,\n",
    "                        values=[[0.50,0.90],\n",
    "                                [0.50,0.10]],\n",
    "                        evidence=['Nublado'],\n",
    "                        evidence_card=[2],\n",
    "                        state_names={\n",
    "                                'Aspersor': [False, True],\n",
    "                                'Nublado': [False, True]\n",
    "                        })\n",
    "\n",
    "cpd_hierbaMojada = TabularCPD(variable='HierbaMojada', variable_card=2,\n",
    "                        values=[[1,0.10,0.10,0.01],\n",
    "                        [0,0.90,0.90,0.99]],\n",
    "                        evidence=['Aspersor','Lluvia'],\n",
    "                        evidence_card=[2,2],\n",
    "                        state_names={\n",
    "                                'HierbaMojada': [False, True],\n",
    "                                'Aspersor': [False, True],\n",
    "                                'Lluvia': [False, True]\n",
    "                        })\n",
    "\n",
    "#Añadir los CPD al modelo.\n",
    "modelo.add_cpds(cpd_nublado, cpd_lluvia, cpd_aspersor, cpd_hierbaMojada)\n",
    "\n",
    "#Comprobar que el modelo es válido.\n",
    "assert modelo.check_model()\n",
    "\n",
    "# Realizar inferencia usando Variable Elimination\n",
    "inferencia = VariableElimination(modelo)\n",
    "\n",
    "# Calcular P(Lluvia = Cierto | HierbaMojada = cierto)\n",
    "query_result = inferencia.query(variables=['Lluvia'], evidence={'HierbaMojada': True})\n",
    "print(query_result)"
   ]
  }
 ],
 "metadata": {
  "kernelspec": {
   "display_name": "AmbienteMódulo4",
   "language": "python",
   "name": "python3"
  },
  "language_info": {
   "codemirror_mode": {
    "name": "ipython",
    "version": 3
   },
   "file_extension": ".py",
   "mimetype": "text/x-python",
   "name": "python",
   "nbconvert_exporter": "python",
   "pygments_lexer": "ipython3",
   "version": "3.13.2"
  }
 },
 "nbformat": 4,
 "nbformat_minor": 2
}
