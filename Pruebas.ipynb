{
 "cells": [
  {
   "cell_type": "code",
   "execution_count": null,
   "id": "3507598d",
   "metadata": {},
   "outputs": [
    {
     "name": "stdout",
     "output_type": "stream",
     "text": [
      "{0: 4.373177842565596, 1: 3.2798833819241975, 2: 1.093294460641399, 3: 2.9154518950437307}\n",
      "{2: 1.093294460641399, 3: 2.9154518950437307, 1: 3.2798833819241975, 0: 4.373177842565596}\n"
     ]
    },
    {
     "ename": "KeyError",
     "evalue": "4.373177842565596",
     "output_type": "error",
     "traceback": [
      "\u001b[31m---------------------------------------------------------------------------\u001b[39m",
      "\u001b[31mKeyError\u001b[39m                                  Traceback (most recent call last)",
      "\u001b[36mCell\u001b[39m\u001b[36m \u001b[39m\u001b[32mIn[17]\u001b[39m\u001b[32m, line 10\u001b[39m\n\u001b[32m      7\u001b[39m diccionarioOrdenado = {key: val \u001b[38;5;28;01mfor\u001b[39;00m key, val \u001b[38;5;129;01min\u001b[39;00m \u001b[38;5;28msorted\u001b[39m(diccionario.items(), key = \u001b[38;5;28;01mlambda\u001b[39;00m ele: ele[\u001b[32m1\u001b[39m])}\n\u001b[32m      9\u001b[39m \u001b[38;5;28mprint\u001b[39m(diccionarioOrdenado )\n\u001b[32m---> \u001b[39m\u001b[32m10\u001b[39m \u001b[38;5;28mprint\u001b[39m(\u001b[43mdiccionarioOrdenado\u001b[49m\u001b[43m[\u001b[49m\u001b[43maptitudes\u001b[49m\u001b[43m[\u001b[49m\u001b[32;43m0\u001b[39;49m\u001b[43m]\u001b[49m\u001b[43m]\u001b[49m)\n",
      "\u001b[31mKeyError\u001b[39m: 4.373177842565596"
     ]
    }
   ],
   "source": [
    "poblacionInicial = [[0,1,1,1,0,0,0,0,1],[0,1,1,0,1,1,0,0,1],[0,0,1,0,1,1,0,0,1],[0,0,1,0,1,0,1,0,0]]\n",
    "aptitudes =[4.373177842565596, 3.2798833819241975, 1.093294460641399, 2.9154518950437307]\n",
    "\n",
    "diccionario = {i : aptitudes[i] for i in range(0,len(aptitudes))}\n",
    "print(diccionario)\n",
    "\n",
    "diccionarioOrdenado = {key: val for key, val in sorted(diccionario.items(), key = lambda ele: ele[1])}\n",
    "\n",
    "print(diccionarioOrdenado )\n",
    "print(diccionarioOrdenado[aptitudes[0]])"
   ]
  }
 ],
 "metadata": {
  "kernelspec": {
   "display_name": "AmbienteMódulo6",
   "language": "python",
   "name": "python3"
  },
  "language_info": {
   "codemirror_mode": {
    "name": "ipython",
    "version": 3
   },
   "file_extension": ".py",
   "mimetype": "text/x-python",
   "name": "python",
   "nbconvert_exporter": "python",
   "pygments_lexer": "ipython3",
   "version": "3.13.2"
  }
 },
 "nbformat": 4,
 "nbformat_minor": 5
}
