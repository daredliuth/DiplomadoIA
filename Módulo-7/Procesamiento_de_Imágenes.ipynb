{
  "cells": [
    {
      "cell_type": "code",
      "execution_count": 2,
      "metadata": {
        "id": "2TcdbWnnN0TE"
      },
      "outputs": [],
      "source": [
        "import numpy as np\n",
        "import cv2\n",
        "#from google.colab.patches import cv2.imshow\n",
        "image = cv2.imread('Recursos/persona1.png')\n",
        "imYCrCb = cv2.cvtColor(image, cv2.COLOR_BGR2YCR_CB)"
      ]
    },
    {
      "cell_type": "code",
      "execution_count": null,
      "metadata": {
        "colab": {
          "base_uri": "https://localhost:8080/",
          "height": 1000
        },
        "collapsed": true,
        "id": "7y-ZTNs_dGWE",
        "outputId": "8636661b-5352-4dd6-a230-96ad407ee882"
      },
      "outputs": [
        {
          "name": "stdout",
          "output_type": "stream",
          "text": [
            "Imagen original:\n",
            "Imagen binarizada:\n"
          ]
        },
        {
          "ename": "",
          "evalue": "",
          "output_type": "error",
          "traceback": [
            "\u001b[1;31mEl kernel se bloqueó al ejecutar código en la celda actual o en una celda anterior. \n",
            "\u001b[1;31mRevise el código de las celdas para identificar una posible causa del error. \n",
            "\u001b[1;31mHaga clic <a href='https://aka.ms/vscodeJupyterKernelCrash'>aquí</a> para obtener más información. \n",
            "\u001b[1;31mVea Jupyter <a href='command:jupyter.viewOutput'>log</a> para obtener más detalles."
          ]
        }
      ],
      "source": [
        "# Cargar imagen en escala de grises\n",
        "img = cv2.imread('Recursos/persona.png', cv2.IMREAD_GRAYSCALE)\n",
        "\n",
        "# Binarización simple\n",
        "_, binaria = cv2.threshold(img, 127, 255, cv2.THRESH_BINARY)\n",
        "\n",
        "# Mostrar usando cv2_imshow\n",
        "print(\"Imagen original:\")\n",
        "cv2.imshow(\"Original\", img)\n",
        "\n",
        "print(\"Imagen binarizada:\")\n",
        "cv2.imshow(\"Binarizada\", binaria)"
      ]
    },
    {
      "cell_type": "code",
      "execution_count": 3,
      "metadata": {
        "colab": {
          "base_uri": "https://localhost:8080/",
          "height": 1000
        },
        "collapsed": true,
        "id": "u9PpI4CqN5wj",
        "outputId": "69277426-7c11-4cec-eff4-b704bb83e166"
      },
      "outputs": [],
      "source": [
        "# Segmentación\n",
        "imYCrCb = cv2.cvtColor(image, cv2.COLOR_BGR2YCR_CB)\n",
        "cv2.imshow(\"Segmentada\",imYCrCb)\n",
        "\n",
        "Y, Cr, Cb = cv2.split(imYCrCb)\n",
        "\n",
        "# Aplicar máscara usando condiciones vectorizadas\n",
        "mask = (Cb >= 77) & (Cb <= 127) & (Cr >= 133) & (Cr <= 173)\n",
        "\n",
        "# Crear imagen binaria de piel\n",
        "piel = np.zeros_like(Cr, dtype=np.uint8)\n",
        "piel[mask] = 255\n",
        "cv2.imshow(\"piel\", piel)"
      ]
    },
    {
      "cell_type": "code",
      "execution_count": 4,
      "metadata": {
        "colab": {
          "base_uri": "https://localhost:8080/",
          "height": 1000
        },
        "id": "vHE0V3kvxSTv",
        "outputId": "3f378e02-df51-47eb-a62e-c84ddae79e7a"
      },
      "outputs": [
        {
          "name": "stdout",
          "output_type": "stream",
          "text": [
            "Imagen original binaria:\n",
            "Erosión:\n",
            "Dilatación:\n",
            "Apertura:\n",
            "Cierre:\n"
          ]
        }
      ],
      "source": [
        "# Cargar imagen en escala de grises\n",
        "imagen = cv2.imread('Recursos/ejemplo.png', cv2.IMREAD_GRAYSCALE)\n",
        "\n",
        "# Umbralizar para convertir en imagen binaria\n",
        "_, binaria = cv2.threshold(imagen, 127, 255, cv2.THRESH_BINARY)\n",
        "\n",
        "# Crear un kernel (elemento estructurante)\n",
        "kernel = cv2.getStructuringElement(cv2.MORPH_RECT, (5, 5))\n",
        "\n",
        "# --- OPERACIONES MORFOLÓGICAS ---\n",
        "erosion = cv2.erode(binaria, kernel, iterations=1)\n",
        "dilatacion = cv2.dilate(binaria, kernel, iterations=1)\n",
        "apertura = cv2.morphologyEx(binaria, cv2.MORPH_OPEN, kernel)\n",
        "cierre = cv2.morphologyEx(binaria, cv2.MORPH_CLOSE, kernel)\n",
        "\n",
        "# --- MOSTRAR RESULTADOS ---\n",
        "print(\"Imagen original binaria:\")\n",
        "cv2.imshow(\"2\", binaria)\n",
        "\n",
        "print(\"Erosión:\")\n",
        "cv2.imshow(\"3\",erosion)\n",
        "\n",
        "print(\"Dilatación:\")\n",
        "cv2.imshow(\"4\", dilatacion)\n",
        "\n",
        "print(\"Apertura:\")\n",
        "cv2.imshow(\"5\", apertura)\n",
        "\n",
        "print(\"Cierre:\")\n",
        "cv2.imshow(\"6\", cierre)\n"
      ]
    },
    {
      "cell_type": "code",
      "execution_count": 5,
      "metadata": {
        "colab": {
          "base_uri": "https://localhost:8080/",
          "height": 631
        },
        "collapsed": true,
        "id": "RvWYIXjnsHCj",
        "outputId": "53d18337-6950-4abb-d012-b0a3060c2430"
      },
      "outputs": [],
      "source": [
        "img = cv2.imread('Recursos/persona1.png')\n",
        "# Obtener el centro de la imagen\n",
        "(h, w) = img.shape[:2]\n",
        "centro = (w // 2, h // 2)\n",
        "\n",
        "# Matriz de rotación\n",
        "M = cv2.getRotationMatrix2D(centro, 45, 1.0)  # (centro, ángulo, escala)\n",
        "\n",
        "# Aplicar rotación\n",
        "img_rotada = cv2.warpAffine(img, M, (w, h))\n",
        "\n",
        "# Mostrar imagen rotada\n",
        "cv2.imshow(\"7\", img_rotada)\n"
      ]
    },
    {
      "cell_type": "code",
      "execution_count": null,
      "metadata": {
        "colab": {
          "base_uri": "https://localhost:8080/",
          "height": 631
        },
        "collapsed": true,
        "id": "4WZSZuToswY7",
        "outputId": "c482bf91-eb8c-42a7-ed05-51caba9b10c9"
      },
      "outputs": [
        {
          "ename": "",
          "evalue": "",
          "output_type": "error",
          "traceback": [
            "\u001b[1;31mEl kernel se bloqueó al ejecutar código en la celda actual o en una celda anterior. \n",
            "\u001b[1;31mRevise el código de las celdas para identificar una posible causa del error. \n",
            "\u001b[1;31mHaga clic <a href='https://aka.ms/vscodeJupyterKernelCrash'>aquí</a> para obtener más información. \n",
            "\u001b[1;31mVea Jupyter <a href='command:jupyter.viewOutput'>log</a> para obtener más detalles."
          ]
        }
      ],
      "source": [
        "# Matriz de traslación\n",
        "M = np.float32([[1, 0, 100],  # Mover en X\n",
        "                [0, 1, 50]])  # Mover en Y\n",
        "\n",
        "# Aplicar traslación\n",
        "img_trasladada = cv2.warpAffine(img, M, (w, h))\n",
        "\n",
        "# Mostrar imagen trasladada\n",
        "cv2.imshow(\"8\", img_trasladada)"
      ]
    },
    {
      "cell_type": "code",
      "execution_count": null,
      "metadata": {
        "id": "sGpClOghxIoD"
      },
      "outputs": [],
      "source": []
    }
  ],
  "metadata": {
    "colab": {
      "provenance": []
    },
    "kernelspec": {
      "display_name": "AmbienteMódulo7",
      "language": "python",
      "name": "python3"
    },
    "language_info": {
      "codemirror_mode": {
        "name": "ipython",
        "version": 3
      },
      "file_extension": ".py",
      "mimetype": "text/x-python",
      "name": "python",
      "nbconvert_exporter": "python",
      "pygments_lexer": "ipython3",
      "version": "3.13.2"
    }
  },
  "nbformat": 4,
  "nbformat_minor": 0
}
