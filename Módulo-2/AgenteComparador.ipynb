{
 "cells": [
  {
   "cell_type": "code",
   "execution_count": 1,
   "metadata": {},
   "outputs": [
    {
     "name": "stdout",
     "output_type": "stream",
     "text": [
      "Producto recomendado: Producto B con precio: 80\n"
     ]
    }
   ],
   "source": [
    "#Actividad 3: Agentes de Compra Comparativa\n",
    "#\n",
    "#Objetivo: Implementar un agente comparativo de productos basado en características específicas.\n",
    "#\n",
    "#Descripción de la actividad: Crear un sistema donde el agente compare los precios de productos de diferentes categorías y #seleccione el más barato, dado un conjunto de productos con características.\n",
    "#\n",
    "#Código de ejemplo:\n",
    "\n",
    "# Productos con precios y características\n",
    "productos = [\n",
    "    {\"nombre\": \"Producto A\", \"precio\": 100, \"caracteristicas\": [\"rojo\", \"plástico\"]},\n",
    "    {\"nombre\": \"Producto B\", \"precio\": 80, \"caracteristicas\": [\"rojo\", \"metal\"]},\n",
    "    {\"nombre\": \"Producto C\", \"precio\": 120, \"caracteristicas\": [\"azul\", \"plástico\"]},\n",
    "]\n",
    "\n",
    "# Agente comparativo\n",
    "def recomendar_producto(productos):\n",
    "    producto_recomendado = min(productos, key=lambda x: x[\"precio\"])\n",
    "    return producto_recomendado\n",
    "\n",
    "producto = recomendar_producto(productos)\n",
    "print(f\"Producto recomendado: {producto['nombre']} con precio: {producto['precio']}\")"
   ]
  }
 ],
 "metadata": {
  "kernelspec": {
   "display_name": "Ambiente",
   "language": "python",
   "name": "python3"
  },
  "language_info": {
   "codemirror_mode": {
    "name": "ipython",
    "version": 3
   },
   "file_extension": ".py",
   "mimetype": "text/x-python",
   "name": "python",
   "nbconvert_exporter": "python",
   "pygments_lexer": "ipython3",
   "version": "3.12.4"
  }
 },
 "nbformat": 4,
 "nbformat_minor": 2
}
