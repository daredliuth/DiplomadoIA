{
 "cells": [
  {
   "cell_type": "code",
   "execution_count": 2,
   "metadata": {},
   "outputs": [
    {
     "name": "stdout",
     "output_type": "stream",
     "text": [
      "Movimiento 1: Agente en posición (0, -1) con un costo de 1.0\n",
      "Movimiento 2: Agente en posición (0, 0) con un costo de 1.0\n",
      "Movimiento 3: Agente en posición (0, 1) con un costo de 1.0\n",
      "Movimiento 4: Agente en posición (-1, 1) con un costo de 1.0\n",
      "Movimiento 5: Agente en posición (-1, 2) con un costo de 1.0\n",
      "Movimiento 6: Agente en posición (-2, 2) con un costo de 1.0\n",
      "Movimiento 7: Agente en posición (-1, 2) con un costo de 1.0\n",
      "Movimiento 8: Agente en posición (-1, 3) con un costo de 1.0\n",
      "Movimiento 9: Agente en posición (0, 3) con un costo de 1.0\n",
      "Movimiento 10: Agente en posición (0, 4) con un costo de 1.0\n",
      "Costo toal: 10.0\n"
     ]
    }
   ],
   "source": [
    "import random\n",
    "import math\n",
    "\n",
    "# Definimos el agente\n",
    "\n",
    "class AgenteInteligente:\n",
    "\n",
    "    def __init__(self):\n",
    "        self.posicion = (0, 0)\n",
    "        self.posicionAnterior = (0,0)\n",
    "        self.costo = 0\n",
    "        self.costoTotal = 0\n",
    "\n",
    "    def mover(self):\n",
    "        # El agente se mueve aleatoriamente en 4 direcciones\n",
    "        movimientos = [(0, 1), (0, -1), (1, 0), (-1, 0)]\n",
    "        movimiento = random.choice(movimientos)\n",
    "        self.posicionAnterior = self.posicion\n",
    "        self.posicion = (self.posicion[0] + movimiento[0], self.posicion[1] + movimiento[1])\n",
    "        return self.posicion\n",
    "\n",
    "    def DistanciaEuclidiana(self):\n",
    "        self.costo = math.sqrt(math.pow(self.posicion[0] - self.posicionAnterior[0],2) + math.pow(self.posicion[1] - self.posicionAnterior[1],2))\n",
    "        self.costoTotal += self.costo\n",
    "        return self.costo\n",
    "\n",
    "# Crear un agente\n",
    "agente = AgenteInteligente()\n",
    "\n",
    "# Simular movimientos\n",
    "for i in range(10):\n",
    "    print(f\"Movimiento {i+1}: Agente en posición {agente.mover()} con un costo de {agente.DistanciaEuclidiana()}\")\n",
    "print(f\"Costo toal: {agente.costoTotal}\")"
   ]
  }
 ],
 "metadata": {
  "kernelspec": {
   "display_name": "Ambiente",
   "language": "python",
   "name": "python3"
  },
  "language_info": {
   "codemirror_mode": {
    "name": "ipython",
    "version": 3
   },
   "file_extension": ".py",
   "mimetype": "text/x-python",
   "name": "python",
   "nbconvert_exporter": "python",
   "pygments_lexer": "ipython3",
   "version": "3.12.4"
  }
 },
 "nbformat": 4,
 "nbformat_minor": 2
}
